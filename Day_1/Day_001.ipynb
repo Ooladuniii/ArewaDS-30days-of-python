{
 "cells": [
  {
   "cell_type": "markdown",
   "id": "6925e989",
   "metadata": {},
   "source": [
    "# Exercise: Level 1"
   ]
  },
  {
   "cell_type": "code",
   "execution_count": 12,
   "id": "34f9aad7",
   "metadata": {},
   "outputs": [
    {
     "name": "stdout",
     "output_type": "stream",
     "text": [
      "Python 3.8.18\n"
     ]
    }
   ],
   "source": [
    "# check python Version\n",
    "\n",
    "!python --version\n",
    "\n"
   ]
  },
  {
   "cell_type": "code",
   "execution_count": 13,
   "id": "1d1d813b",
   "metadata": {},
   "outputs": [
    {
     "name": "stdout",
     "output_type": "stream",
     "text": [
      "7\n"
     ]
    }
   ],
   "source": [
    "# Addition\n",
    "add_num = 3 + 4 \n",
    "\n",
    "print( add_num)"
   ]
  },
  {
   "cell_type": "code",
   "execution_count": 14,
   "id": "e93cd2e0",
   "metadata": {},
   "outputs": [
    {
     "name": "stdout",
     "output_type": "stream",
     "text": [
      "-1\n"
     ]
    }
   ],
   "source": [
    "# substraction\n",
    "\n",
    "sub_num = 3 - 4 \n",
    "\n",
    "print( sub_num)"
   ]
  },
  {
   "cell_type": "code",
   "execution_count": 15,
   "id": "e642dfb1",
   "metadata": {},
   "outputs": [
    {
     "name": "stdout",
     "output_type": "stream",
     "text": [
      "12\n"
     ]
    }
   ],
   "source": [
    "# Multiplication\n",
    "\n",
    "mul_num = 3 * 4\n",
    "\n",
    "print( mul_num)"
   ]
  },
  {
   "cell_type": "code",
   "execution_count": 16,
   "id": "03e1b02d",
   "metadata": {},
   "outputs": [
    {
     "name": "stdout",
     "output_type": "stream",
     "text": [
      "3\n"
     ]
    }
   ],
   "source": [
    "# Modulus\n",
    "\n",
    "mod = 3 % 4\n",
    "\n",
    "print(mod)"
   ]
  },
  {
   "cell_type": "code",
   "execution_count": 17,
   "id": "2627c354",
   "metadata": {},
   "outputs": [
    {
     "name": "stdout",
     "output_type": "stream",
     "text": [
      "0.75\n"
     ]
    }
   ],
   "source": [
    "# Division\n",
    "\n",
    "div = 3 / 4 \n",
    "\n",
    "print(div)"
   ]
  },
  {
   "cell_type": "code",
   "execution_count": 18,
   "id": "8bb2ba2d",
   "metadata": {},
   "outputs": [
    {
     "name": "stdout",
     "output_type": "stream",
     "text": [
      "81\n"
     ]
    }
   ],
   "source": [
    "# Exponetial\n",
    "\n",
    "exp = 3** 4\n",
    "\n",
    "print(exp)"
   ]
  },
  {
   "cell_type": "code",
   "execution_count": 19,
   "id": "ef5a9a94",
   "metadata": {},
   "outputs": [
    {
     "name": "stdout",
     "output_type": "stream",
     "text": [
      "0\n"
     ]
    }
   ],
   "source": [
    "# Floor division\n",
    "\n",
    "floor_div = 3//4\n",
    "\n",
    "print(floor_div)"
   ]
  },
  {
   "cell_type": "markdown",
   "id": "9e818a99",
   "metadata": {},
   "source": [
    "# Strings"
   ]
  },
  {
   "cell_type": "code",
   "execution_count": 20,
   "id": "00f911c2",
   "metadata": {},
   "outputs": [
    {
     "name": "stdout",
     "output_type": "stream",
     "text": [
      "Olayinka Mojisola Babalola\n"
     ]
    }
   ],
   "source": [
    "My_name = \"Olayinka Mojisola Babalola\"\n",
    "\n",
    "print(My_name)"
   ]
  },
  {
   "cell_type": "code",
   "execution_count": 21,
   "id": "7df18e23",
   "metadata": {},
   "outputs": [
    {
     "name": "stdout",
     "output_type": "stream",
     "text": [
      "Babalola\n"
     ]
    }
   ],
   "source": [
    "Fam_name = \"Babalola\"\n",
    "\n",
    "print(Fam_name)"
   ]
  },
  {
   "cell_type": "code",
   "execution_count": 22,
   "id": "1e8ef365",
   "metadata": {},
   "outputs": [
    {
     "name": "stdout",
     "output_type": "stream",
     "text": [
      "Nigeria\n"
     ]
    }
   ],
   "source": [
    "My_country = \"Nigeria\"\n",
    "\n",
    "print (My_country)"
   ]
  },
  {
   "cell_type": "code",
   "execution_count": 23,
   "id": "ba97a933",
   "metadata": {},
   "outputs": [
    {
     "name": "stdout",
     "output_type": "stream",
     "text": [
      "I am enjoying 30 days of Python\n"
     ]
    }
   ],
   "source": [
    "fav = \"I am enjoying 30 days of Python\"\n",
    "\n",
    "print (fav)"
   ]
  },
  {
   "cell_type": "markdown",
   "id": "e85d4fd2",
   "metadata": {},
   "source": [
    "# Checking Data Types"
   ]
  },
  {
   "cell_type": "code",
   "execution_count": 24,
   "id": "d8283861",
   "metadata": {},
   "outputs": [
    {
     "name": "stdout",
     "output_type": "stream",
     "text": [
      "<class 'int'>\n"
     ]
    }
   ],
   "source": [
    "number = 10\n",
    "\n",
    "data_type = type(number)\n",
    "\n",
    "print(data_type)\n"
   ]
  },
  {
   "cell_type": "code",
   "execution_count": 25,
   "id": "725f9ce1",
   "metadata": {},
   "outputs": [
    {
     "name": "stdout",
     "output_type": "stream",
     "text": [
      "<class 'float'>\n"
     ]
    }
   ],
   "source": [
    "number = 9.8\n",
    "\n",
    "data_type = type(number)\n",
    "\n",
    "print(data_type)\n"
   ]
  },
  {
   "cell_type": "code",
   "execution_count": 26,
   "id": "537750c9",
   "metadata": {},
   "outputs": [
    {
     "name": "stdout",
     "output_type": "stream",
     "text": [
      "<class 'float'>\n"
     ]
    }
   ],
   "source": [
    "number = 3.14\n",
    "\n",
    "data_type = type(number)\n",
    "\n",
    "print(data_type)\n"
   ]
  },
  {
   "cell_type": "code",
   "execution_count": 27,
   "id": "f76fcc06",
   "metadata": {},
   "outputs": [
    {
     "name": "stdout",
     "output_type": "stream",
     "text": [
      "<class 'complex'>\n"
     ]
    }
   ],
   "source": [
    "number = 4-4j\n",
    "\n",
    "data_type = type(number)\n",
    "\n",
    "print(data_type)\n"
   ]
  },
  {
   "cell_type": "code",
   "execution_count": 28,
   "id": "bd0784cf",
   "metadata": {},
   "outputs": [
    {
     "name": "stdout",
     "output_type": "stream",
     "text": [
      "<class 'list'>\n"
     ]
    }
   ],
   "source": [
    "data = ['Asabeneh', 'Python', 'Finland']\n",
    "\n",
    "data_type = type(data)\n",
    "\n",
    "print(data_type)"
   ]
  },
  {
   "cell_type": "code",
   "execution_count": 29,
   "id": "36511f5c",
   "metadata": {},
   "outputs": [
    {
     "name": "stdout",
     "output_type": "stream",
     "text": [
      "<class 'str'>\n"
     ]
    }
   ],
   "source": [
    "My_name = \"Olayinka Mojisola Babalola\"\n",
    "\n",
    "data_type = type(My_name)\n",
    "\n",
    "print(data_type)"
   ]
  },
  {
   "cell_type": "code",
   "execution_count": 30,
   "id": "28a6a184",
   "metadata": {},
   "outputs": [
    {
     "name": "stdout",
     "output_type": "stream",
     "text": [
      "<class 'str'>\n"
     ]
    }
   ],
   "source": [
    "Fam_name = \"Babalola\"\n",
    "\n",
    "data_type = type(Fam_name)\n",
    "\n",
    "print(data_type)"
   ]
  },
  {
   "cell_type": "code",
   "execution_count": 31,
   "id": "f6911db5",
   "metadata": {},
   "outputs": [
    {
     "name": "stdout",
     "output_type": "stream",
     "text": [
      "<class 'str'>\n"
     ]
    }
   ],
   "source": [
    "My_country = \"Nigeria\"\n",
    "\n",
    "data_type = type(My_country)\n",
    "\n",
    "print(data_type)"
   ]
  },
  {
   "cell_type": "code",
   "execution_count": null,
   "id": "d35efd12",
   "metadata": {},
   "outputs": [],
   "source": []
  }
 ],
 "metadata": {
  "kernelspec": {
   "display_name": "Python 3 (ipykernel)",
   "language": "python",
   "name": "python3"
  },
  "language_info": {
   "codemirror_mode": {
    "name": "ipython",
    "version": 3
   },
   "file_extension": ".py",
   "mimetype": "text/x-python",
   "name": "python",
   "nbconvert_exporter": "python",
   "pygments_lexer": "ipython3",
   "version": "3.9.18"
  }
 },
 "nbformat": 4,
 "nbformat_minor": 5
}
