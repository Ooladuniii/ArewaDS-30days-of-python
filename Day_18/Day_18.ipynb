{
 "cells": [
  {
   "cell_type": "markdown",
   "metadata": {},
   "source": [
    "# EXERCISES: LEVEL 1"
   ]
  },
  {
   "cell_type": "code",
   "execution_count": 1,
   "metadata": {},
   "outputs": [
    {
     "name": "stdout",
     "output_type": "stream",
     "text": [
      "The most frequent word is: love\n"
     ]
    }
   ],
   "source": [
    "import re\n",
    "\n",
    "paragraph = 'I love teaching. If you do not love teaching what else can you love. I love Python if you do not love something which can give you all the capabilities to develop an application what else can you love.'\n",
    "\n",
    "# Use regex to find all words in the paragraph\n",
    "words = re.findall(r'\\b\\w+\\b', paragraph.lower())  # Convert to lowercase for case-insensitive matching\n",
    "\n",
    "# Create a dictionary to store word frequencies\n",
    "word_frequencies = {}\n",
    "\n",
    "# Calculate word frequencies\n",
    "for word in words:\n",
    "    word_frequencies[word] = word_frequencies.get(word, 0) + 1\n",
    "\n",
    "# Find the most frequent word\n",
    "most_frequent_word = max(word_frequencies, key=word_frequencies.get)\n",
    "\n",
    "print(\"The most frequent word is:\", most_frequent_word)\n"
   ]
  },
  {
   "cell_type": "code",
   "execution_count": 3,
   "metadata": {},
   "outputs": [
    {
     "name": "stdout",
     "output_type": "stream",
     "text": [
      "Sorted Numbers: [-12, -4, -3, -1, 0, 4, 8]\n",
      "Distance between the two furthest particles: 20\n"
     ]
    }
   ],
   "source": [
    "text = \"The position of some particles on the horizontal x-axis are -12, -4, -3 and -1 in the negative direction, 0 at origin, 4 and 8 in the positive direction.\"\n",
    "\n",
    "# Use regex to find all integers (positive and negative) in the text\n",
    "numbers = [int(match.group()) for match in re.finditer(r'-?\\d+', text)]\n",
    "\n",
    "# Sort the numbers\n",
    "sorted_numbers = sorted(numbers)\n",
    "\n",
    "# Find the distance between the two furthest particles\n",
    "distance = sorted_numbers[-1] - sorted_numbers[0]\n",
    "\n",
    "print(\"Sorted Numbers:\", sorted_numbers)\n",
    "print(\"Distance between the two furthest particles:\", distance)\n"
   ]
  },
  {
   "cell_type": "markdown",
   "metadata": {},
   "source": [
    "# EXERCISES: level 2"
   ]
  },
  {
   "cell_type": "code",
   "execution_count": 4,
   "metadata": {},
   "outputs": [
    {
     "name": "stdout",
     "output_type": "stream",
     "text": [
      "True\n",
      "False\n",
      "False\n",
      "True\n"
     ]
    }
   ],
   "source": [
    "def is_valid_variable(variable_name):\n",
    "    pattern = re.compile(r'^[a-zA-Z_]\\w*$')\n",
    "    return bool(pattern.match(variable_name))\n",
    "\n",
    "# Test cases\n",
    "print(is_valid_variable('first_name'))   # True\n",
    "print(is_valid_variable('first-name'))   # False\n",
    "print(is_valid_variable('1first_name'))   # False\n",
    "print(is_valid_variable('firstname'))     # True\n"
   ]
  },
  {
   "cell_type": "markdown",
   "metadata": {},
   "source": [
    "# EXERCISES: LEVEL 3"
   ]
  },
  {
   "cell_type": "code",
   "execution_count": 5,
   "metadata": {},
   "outputs": [
    {
     "name": "stdout",
     "output_type": "stream",
     "text": [
      "I am a teacher and I love teaching There is nothing as more rewarding as educating and empowering people I found teaching more interesting than any other jobs Does this motivate you to be a teacher\n",
      "[('I', 3), ('a', 2), ('teacher', 2)]\n"
     ]
    }
   ],
   "source": [
    "from collections import Counter\n",
    "\n",
    "def clean_text(text):\n",
    "    # Remove special characters and extra spaces\n",
    "    cleaned_text = re.sub(r'[^a-zA-Z\\s]', '', text)\n",
    "    cleaned_text = re.sub(r'\\s+', ' ', cleaned_text).strip()\n",
    "    return cleaned_text\n",
    "\n",
    "def most_frequent_words(text):\n",
    "    # Tokenize the text into words and count their occurrences\n",
    "    words = text.split()\n",
    "    word_counts = Counter(words)\n",
    "\n",
    "    # Find the three most frequent words\n",
    "    most_frequent = word_counts.most_common(3)\n",
    "\n",
    "    return most_frequent\n",
    "\n",
    "sentence = '''%I $am@% a %tea@cher%, &and& I lo%#ve %tea@ching%;. There $is nothing; &as& mo@re rewarding as educa@ting &and& @emp%o@wering peo@ple. ;I found tea@ching m%o@re interesting tha@n any other %jo@bs. %Do@es thi%s mo@tivate yo@u to be a tea@cher!?'''\n",
    "\n",
    "cleaned_text = clean_text(sentence)\n",
    "print(cleaned_text)\n",
    "print(most_frequent_words(cleaned_text))\n"
   ]
  }
 ],
 "metadata": {
  "kernelspec": {
   "display_name": "datascience",
   "language": "python",
   "name": "python3"
  },
  "language_info": {
   "codemirror_mode": {
    "name": "ipython",
    "version": 3
   },
   "file_extension": ".py",
   "mimetype": "text/x-python",
   "name": "python",
   "nbconvert_exporter": "python",
   "pygments_lexer": "ipython3",
   "version": "3.8.18"
  }
 },
 "nbformat": 4,
 "nbformat_minor": 2
}
