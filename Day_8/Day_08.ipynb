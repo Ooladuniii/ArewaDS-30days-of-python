{
 "cells": [
  {
   "cell_type": "code",
   "execution_count": 41,
   "metadata": {},
   "outputs": [
    {
     "name": "stdout",
     "output_type": "stream",
     "text": [
      "{}\n"
     ]
    }
   ],
   "source": [
    "# Task 1: Create an empty dictionary called dog\n",
    "dog = {}\n",
    "print(dog)"
   ]
  },
  {
   "cell_type": "code",
   "execution_count": 42,
   "metadata": {},
   "outputs": [
    {
     "name": "stdout",
     "output_type": "stream",
     "text": [
      "{'name': 'Bruno', 'color': 'Brown', 'breed': 'German shephard', 'legs': 4, 'age': 3}\n"
     ]
    }
   ],
   "source": [
    "# Task 2: Add name, color, breed, legs, age to the dog dictionary\n",
    "dog = {'name': 'Bruno', 'color': 'Brown', 'breed': 'German shephard', 'legs': 4, 'age': 3}\n",
    "print(dog)"
   ]
  },
  {
   "cell_type": "code",
   "execution_count": 43,
   "metadata": {},
   "outputs": [
    {
     "name": "stdout",
     "output_type": "stream",
     "text": [
      "{'first_name': 'David', 'last_name': 'Sorinola', 'gender': 'Male', 'age': 12, 'marital_status': 'Single', 'skills': ['Python', 'JavaScript'], 'country': 'Nigeria', 'city': 'Lagos', 'address': '1, Adeshina street, Ile-Epo, Lagos State'}\n"
     ]
    }
   ],
   "source": [
    "student = {\n",
    "    'first_name': 'David',\n",
    "    'last_name': 'Sorinola',\n",
    "    'gender': 'Male',\n",
    "    'age': 12,\n",
    "    'marital_status': 'Single',\n",
    "    'skills': ['Python', 'JavaScript'],\n",
    "    'country': 'Nigeria',\n",
    "    'city': 'Lagos',\n",
    "    'address': '1, Adeshina street, Ile-Epo, Lagos State'\n",
    "}\n",
    "\n",
    "print(student)\n"
   ]
  },
  {
   "cell_type": "code",
   "execution_count": 44,
   "metadata": {},
   "outputs": [
    {
     "name": "stdout",
     "output_type": "stream",
     "text": [
      "9\n"
     ]
    }
   ],
   "source": [
    "get_length= len(student)\n",
    "print(get_length)"
   ]
  },
  {
   "cell_type": "code",
   "execution_count": 45,
   "metadata": {},
   "outputs": [
    {
     "name": "stdout",
     "output_type": "stream",
     "text": [
      "Skills: ['Python', 'JavaScript']\n",
      "Data type of skills: <class 'list'>\n"
     ]
    }
   ],
   "source": [
    "# Task 5: Get the value of skills and check the data type, it should be a list\n",
    "skills_value = student['skills']\n",
    "print(\"Skills:\", skills_value)\n",
    "print(\"Data type of skills:\", type(skills_value))\n"
   ]
  },
  {
   "cell_type": "code",
   "execution_count": 46,
   "metadata": {},
   "outputs": [
    {
     "name": "stdout",
     "output_type": "stream",
     "text": [
      "Updated skills: ['Python', 'JavaScript', 'HTML', 'CSS']\n"
     ]
    }
   ],
   "source": [
    "# Task 6: Modify the skills values by adding one or two skills using append\n",
    "student['skills'].append('HTML')\n",
    "student['skills'].append('CSS')\n",
    "\n",
    "print(\"Updated skills:\", student['skills'])\n"
   ]
  },
  {
   "cell_type": "code",
   "execution_count": 47,
   "metadata": {},
   "outputs": [
    {
     "name": "stdout",
     "output_type": "stream",
     "text": [
      "Dictionary keys as a list: ['first_name', 'last_name', 'gender', 'age', 'marital_status', 'skills', 'country', 'city', 'address']\n"
     ]
    }
   ],
   "source": [
    "# Task 7: Get the dictionary keys as a list\n",
    "keys_list = list(student.keys())\n",
    "print(\"Dictionary keys as a list:\", keys_list)\n"
   ]
  },
  {
   "cell_type": "code",
   "execution_count": 48,
   "metadata": {},
   "outputs": [
    {
     "name": "stdout",
     "output_type": "stream",
     "text": [
      "Dictionary values as a list: ['David', 'Sorinola', 'Male', 12, 'Single', ['Python', 'JavaScript', 'HTML', 'CSS'], 'Nigeria', 'Lagos', '1, Adeshina street, Ile-Epo, Lagos State']\n"
     ]
    }
   ],
   "source": [
    "# Task 8: Get the dictionary values as a list\n",
    "values_list = list(student.values())\n",
    "print(\"Dictionary values as a list:\", values_list)\n"
   ]
  },
  {
   "cell_type": "code",
   "execution_count": 49,
   "metadata": {},
   "outputs": [
    {
     "name": "stdout",
     "output_type": "stream",
     "text": [
      "Dictionary as a list of tuples: [('first_name', 'David'), ('last_name', 'Sorinola'), ('gender', 'Male'), ('age', 12), ('marital_status', 'Single'), ('skills', ['Python', 'JavaScript', 'HTML', 'CSS']), ('country', 'Nigeria'), ('city', 'Lagos'), ('address', '1, Adeshina street, Ile-Epo, Lagos State')]\n"
     ]
    }
   ],
   "source": [
    "# Task 9: Change the dictionary to a list of tuples using items() method\n",
    "items_list = list(student.items())\n",
    "print(\"Dictionary as a list of tuples:\", items_list)\n"
   ]
  },
  {
   "cell_type": "code",
   "execution_count": 50,
   "metadata": {},
   "outputs": [
    {
     "name": "stdout",
     "output_type": "stream",
     "text": [
      "Dictionary after deleting 'marital_status': {'first_name': 'David', 'last_name': 'Sorinola', 'gender': 'Male', 'age': 12, 'skills': ['Python', 'JavaScript', 'HTML', 'CSS'], 'country': 'Nigeria', 'city': 'Lagos', 'address': '1, Adeshina street, Ile-Epo, Lagos State'}\n"
     ]
    }
   ],
   "source": [
    "# Task 10: Delete one of the items in the dictionary\n",
    "del student['marital_status']\n",
    "print(\"Dictionary after deleting 'marital_status':\", student)\n"
   ]
  },
  {
   "cell_type": "code",
   "execution_count": 51,
   "metadata": {},
   "outputs": [],
   "source": [
    "# Task 11: Delete the entire dictionary\n",
    "del student"
   ]
  }
 ],
 "metadata": {
  "kernelspec": {
   "display_name": "datascience",
   "language": "python",
   "name": "python3"
  },
  "language_info": {
   "codemirror_mode": {
    "name": "ipython",
    "version": 3
   },
   "file_extension": ".py",
   "mimetype": "text/x-python",
   "name": "python",
   "nbconvert_exporter": "python",
   "pygments_lexer": "ipython3",
   "version": "3.8.18"
  }
 },
 "nbformat": 4,
 "nbformat_minor": 2
}
