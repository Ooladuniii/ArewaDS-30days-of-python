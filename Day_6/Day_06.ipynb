{
 "cells": [
  {
   "cell_type": "markdown",
   "metadata": {},
   "source": [
    "# EXERCISES: LEVEL 1"
   ]
  },
  {
   "cell_type": "code",
   "execution_count": 3,
   "metadata": {},
   "outputs": [
    {
     "name": "stdout",
     "output_type": "stream",
     "text": [
      "()\n"
     ]
    }
   ],
   "source": [
    "# create empty tuple\n",
    "empty_tuple = ()\n",
    "print (empty_tuple )"
   ]
  },
  {
   "cell_type": "code",
   "execution_count": 4,
   "metadata": {},
   "outputs": [],
   "source": [
    "# Task 2: Create a tuple containing names of your sisters and your brothers\n",
    "brothers = (\"Tife\", \"Dami\", \"Abolade\")  \n",
    "sisters = (\"Tobi\", \"Seyi\", \"Temilola\")    \n",
    "\n"
   ]
  },
  {
   "cell_type": "code",
   "execution_count": 7,
   "metadata": {},
   "outputs": [
    {
     "name": "stdout",
     "output_type": "stream",
     "text": [
      "('Tife', 'Dami', 'Abolade', 'Tobi', 'Seyi', 'Temilola')\n"
     ]
    }
   ],
   "source": [
    "# Task 3: Join brothers and sisters tuples and assign it to siblings\n",
    "siblings = brothers + sisters\n",
    "print(siblings)"
   ]
  },
  {
   "cell_type": "code",
   "execution_count": 9,
   "metadata": {},
   "outputs": [
    {
     "name": "stdout",
     "output_type": "stream",
     "text": [
      "I have 6 siblings.\n"
     ]
    }
   ],
   "source": [
    "# Task 3: How many siblings do you have?\n",
    "num_siblings = len(siblings)\n",
    "print(f\"I have {num_siblings} siblings.\")\n"
   ]
  },
  {
   "cell_type": "code",
   "execution_count": 10,
   "metadata": {},
   "outputs": [
    {
     "name": "stdout",
     "output_type": "stream",
     "text": [
      "Family members: ('Oluwasegun', 'Oluwafolakemi', 'Tife', 'Dami', 'Abolade', 'Tobi', 'Seyi', 'Temilola')\n"
     ]
    }
   ],
   "source": [
    "# Task 4: Modify the siblings tuple and add the name of your father and mother\n",
    "father = \"Oluwasegun\"\n",
    "mother = \"Oluwafolakemi\"\n",
    "\n",
    "family_members = (father, mother) + siblings\n",
    "print(\"Family members:\", family_members)"
   ]
  },
  {
   "cell_type": "markdown",
   "metadata": {},
   "source": [
    "EXERCISES: LEVEL 2"
   ]
  },
  {
   "cell_type": "code",
   "execution_count": 11,
   "metadata": {},
   "outputs": [
    {
     "name": "stdout",
     "output_type": "stream",
     "text": [
      "Father: Oluwasegun\n",
      "Mother: Oluwafolakemi\n",
      "Siblings: ['Tife', 'Dami', 'Abolade', 'Tobi', 'Seyi', 'Temilola']\n"
     ]
    }
   ],
   "source": [
    "# Task 1: Unpack siblings and parents from family_members\n",
    "father, mother, *siblings = family_members\n",
    "print(\"Father:\", father)\n",
    "print(\"Mother:\", mother)\n",
    "print(\"Siblings:\", siblings)"
   ]
  },
  {
   "cell_type": "code",
   "execution_count": 22,
   "metadata": {},
   "outputs": [
    {
     "name": "stdout",
     "output_type": "stream",
     "text": [
      "('apple', 'banana', 'orange', 'carrot', 'broccoli', 'spinach', 'beef', 'chicken', 'eggs')\n"
     ]
    }
   ],
   "source": [
    "# Task 2: Create fruits, vegetables, and animal products tuples. Join the three tuples and assign it to a variable called food_stuff_tp\n",
    "fruits = (\"apple\", \"banana\", \"orange\")\n",
    "vegetables = (\"carrot\", \"broccoli\", \"spinach\")\n",
    "animal_products = (\"beef\", \"chicken\", \"eggs\")\n",
    "\n",
    "food_stuff_tp = fruits + vegetables + animal_products\n",
    "print(food_stuff_tp)"
   ]
  },
  {
   "cell_type": "code",
   "execution_count": 23,
   "metadata": {},
   "outputs": [
    {
     "name": "stdout",
     "output_type": "stream",
     "text": [
      "['apple', 'banana', 'orange', 'carrot', 'broccoli', 'spinach', 'beef', 'chicken', 'eggs']\n"
     ]
    }
   ],
   "source": [
    "# Task 3: Change the food_stuff_tp tuple to a food_stuff_lt list\n",
    "food_stuff_lt = list(food_stuff_tp)\n",
    "print(food_stuff_lt)"
   ]
  },
  {
   "cell_type": "code",
   "execution_count": 24,
   "metadata": {},
   "outputs": [
    {
     "name": "stdout",
     "output_type": "stream",
     "text": [
      "Middle Item (food_stuff_tp): broccoli\n"
     ]
    }
   ],
   "source": [
    "# Task 4: Slice out the middle item or items from the food_stuff_tp tuple or food_stuff_lt list\n",
    "middle_index = len(food_stuff_tp) // 2\n",
    "middle_item = food_stuff_tp[middle_index]\n",
    "print(\"Middle Item (food_stuff_tp):\", middle_item)\n"
   ]
  },
  {
   "cell_type": "code",
   "execution_count": 26,
   "metadata": {},
   "outputs": [
    {
     "name": "stdout",
     "output_type": "stream",
     "text": [
      "First Three Items (food_stuff_lt): ['apple', 'banana', 'orange']\n",
      "Last Three Items (food_stuff_lt): ['beef', 'chicken', 'eggs']\n"
     ]
    }
   ],
   "source": [
    "# Task 5: Slice out the first three items and the last three items from food_staff_lt list\n",
    "first_three_items = food_stuff_lt[:3]\n",
    "last_three_items = food_stuff_lt[-3:]\n",
    "\n",
    "print(\"First Three Items (food_stuff_lt):\", first_three_items)\n",
    "print(\"Last Three Items (food_stuff_lt):\", last_three_items)"
   ]
  },
  {
   "cell_type": "code",
   "execution_count": 27,
   "metadata": {},
   "outputs": [],
   "source": [
    "# Task 6: delete the food_stuff_tp\n",
    "del food_stuff_tp"
   ]
  },
  {
   "cell_type": "code",
   "execution_count": 28,
   "metadata": {},
   "outputs": [
    {
     "name": "stdout",
     "output_type": "stream",
     "text": [
      "'Estonia' is a Nordic country: False\n"
     ]
    }
   ],
   "source": [
    "# Task 7:\n",
    "# a. Check if 'Estonia' is a Nordic country\n",
    "nordic_countries = ('Denmark', 'Finland', 'Iceland', 'Norway', 'Sweden')\n",
    "is_estonia_nordic = 'Estonia' in nordic_countries\n",
    "print(\"'Estonia' is a Nordic country:\", is_estonia_nordic)\n"
   ]
  },
  {
   "cell_type": "code",
   "execution_count": 30,
   "metadata": {},
   "outputs": [
    {
     "name": "stdout",
     "output_type": "stream",
     "text": [
      "'Iceland' is a Nordic country: True\n"
     ]
    }
   ],
   "source": [
    "# b. Check if 'Iceland' is a Nordic country\n",
    "is_iceland_nordic = 'Iceland' in nordic_countries\n",
    "print(\"'Iceland' is a Nordic country:\", is_iceland_nordic)\n"
   ]
  }
 ],
 "metadata": {
  "kernelspec": {
   "display_name": "datascience",
   "language": "python",
   "name": "python3"
  },
  "language_info": {
   "codemirror_mode": {
    "name": "ipython",
    "version": 3
   },
   "file_extension": ".py",
   "mimetype": "text/x-python",
   "name": "python",
   "nbconvert_exporter": "python",
   "pygments_lexer": "ipython3",
   "version": "3.8.18"
  }
 },
 "nbformat": 4,
 "nbformat_minor": 2
}
