{
 "cells": [
  {
   "cell_type": "markdown",
   "metadata": {},
   "source": [
    "EXERCISES: LEVEL 1"
   ]
  },
  {
   "cell_type": "code",
   "execution_count": 1,
   "metadata": {},
   "outputs": [],
   "source": [
    "# Given sets and list\n",
    "it_companies = {'Facebook', 'Google', 'Microsoft', 'Apple', 'IBM', 'Oracle', 'Amazon'}\n",
    "A = {19, 22, 24, 20, 25, 26}\n",
    "B = {19, 22, 20, 25, 26, 24, 28, 27}\n",
    "age = [22, 19, 24, 25, 26, 24, 25, 24]\n"
   ]
  },
  {
   "cell_type": "code",
   "execution_count": 3,
   "metadata": {},
   "outputs": [
    {
     "name": "stdout",
     "output_type": "stream",
     "text": [
      "7\n"
     ]
    }
   ],
   "source": [
    "# Task 1: Find the length of the set it_companies\n",
    "length_it_companies = len(it_companies)\n",
    "print(length_it_companies)\n"
   ]
  },
  {
   "cell_type": "code",
   "execution_count": 4,
   "metadata": {},
   "outputs": [
    {
     "name": "stdout",
     "output_type": "stream",
     "text": [
      "Updated it_companies: {'Facebook', 'Twitter', 'Apple', 'Microsoft', 'Oracle', 'IBM', 'Google', 'Amazon'}\n"
     ]
    }
   ],
   "source": [
    "# Task 2: Add 'Twitter' to it_companies\n",
    "it_companies.add('Twitter')\n",
    "print(\"Updated it_companies:\", it_companies)\n"
   ]
  },
  {
   "cell_type": "code",
   "execution_count": 8,
   "metadata": {},
   "outputs": [
    {
     "name": "stdout",
     "output_type": "stream",
     "text": [
      "Updated it_companies after insertion: {'Intel', 'Facebook', 'Twitter', 'Apple', 'Microsoft', 'Oracle', 'IBM', 'Tesla', 'Google', 'LinkedIn', 'Amazon'}\n"
     ]
    }
   ],
   "source": [
    "# Task 3: Insert multiple IT companies at once to the set it_companies\n",
    "it_companies.update({'LinkedIn', 'Tesla', 'Intel'})\n",
    "print(\"Updated it_companies after insertion:\", it_companies)\n"
   ]
  },
  {
   "cell_type": "code",
   "execution_count": 9,
   "metadata": {},
   "outputs": [
    {
     "name": "stdout",
     "output_type": "stream",
     "text": [
      "Updated it_companies after removal: {'Intel', 'Facebook', 'Twitter', 'Apple', 'Microsoft', 'Oracle', 'IBM', 'Google', 'LinkedIn', 'Amazon'}\n"
     ]
    }
   ],
   "source": [
    "# Task 4: Remove one of the companies from the set it_companies\n",
    "it_companies.remove('Tesla')\n",
    "print(\"Updated it_companies after removal:\", it_companies)\n"
   ]
  },
  {
   "cell_type": "markdown",
   "metadata": {},
   "source": [
    "# Task 5: Difference between remove and discard\n",
    "# Remove: Raises KeyError if the element is not found\n",
    "# Discard: Does not raise any error if the element is not found\n",
    "\n"
   ]
  },
  {
   "cell_type": "markdown",
   "metadata": {},
   "source": [
    "# EXERCISES: LEVEL 2"
   ]
  },
  {
   "cell_type": "code",
   "execution_count": 10,
   "metadata": {},
   "outputs": [],
   "source": [
    "# given set A and B\n",
    "A = {19, 22, 24, 20, 25, 26}\n",
    "B = {19, 22, 20, 25, 26, 24, 28, 27}\n"
   ]
  },
  {
   "cell_type": "code",
   "execution_count": 11,
   "metadata": {},
   "outputs": [
    {
     "name": "stdout",
     "output_type": "stream",
     "text": [
      "Union of A and B: {19, 20, 22, 24, 25, 26, 27, 28}\n"
     ]
    }
   ],
   "source": [
    "# Task 1: Join A and B\n",
    "joined_set = A.union(B)\n",
    "print(\"Union of A and B:\", joined_set)"
   ]
  },
  {
   "cell_type": "code",
   "execution_count": 12,
   "metadata": {},
   "outputs": [
    {
     "name": "stdout",
     "output_type": "stream",
     "text": [
      "Intersection of A and B: {19, 20, 22, 24, 25, 26}\n"
     ]
    }
   ],
   "source": [
    "# Task 2: Find A intersection B\n",
    "intersection_set = A.intersection(B)\n",
    "print(\"Intersection of A and B:\", intersection_set)\n"
   ]
  },
  {
   "cell_type": "code",
   "execution_count": 13,
   "metadata": {},
   "outputs": [
    {
     "name": "stdout",
     "output_type": "stream",
     "text": [
      "Is A a subset of B: True\n"
     ]
    }
   ],
   "source": [
    "# Task 3: Is A subset of B\n",
    "is_subset = A.issubset(B)\n",
    "print(\"Is A a subset of B:\", is_subset)"
   ]
  },
  {
   "cell_type": "code",
   "execution_count": 14,
   "metadata": {},
   "outputs": [
    {
     "name": "stdout",
     "output_type": "stream",
     "text": [
      "Are A and B disjoint sets: False\n"
     ]
    }
   ],
   "source": [
    "# Task 4: Are A and B disjoint sets\n",
    "are_disjoint = A.isdisjoint(B)\n",
    "print(\"Are A and B disjoint sets:\", are_disjoint)"
   ]
  },
  {
   "cell_type": "code",
   "execution_count": 15,
   "metadata": {},
   "outputs": [
    {
     "name": "stdout",
     "output_type": "stream",
     "text": [
      "Join A with B: {19, 20, 22, 24, 25, 26, 27, 28}\n",
      "Join B with A: {19, 20, 22, 24, 25, 26, 27, 28}\n"
     ]
    }
   ],
   "source": [
    "# Task 5: Join A with B and B with A\n",
    "joined_set_1 = A.union(B)\n",
    "joined_set_2 = B.union(A)\n",
    "print(\"Join A with B:\", joined_set_1)\n",
    "print(\"Join B with A:\", joined_set_2)"
   ]
  },
  {
   "cell_type": "code",
   "execution_count": 17,
   "metadata": {},
   "outputs": [
    {
     "name": "stdout",
     "output_type": "stream",
     "text": [
      "Symmetric difference between A and B: {27, 28}\n"
     ]
    }
   ],
   "source": [
    "# Task 6: What is the symmetric difference between A and B\n",
    "symmetric_difference_set = A.symmetric_difference(B)\n",
    "print(\"Symmetric difference between A and B:\", symmetric_difference_set)\n"
   ]
  },
  {
   "cell_type": "code",
   "execution_count": 21,
   "metadata": {},
   "outputs": [],
   "source": [
    "# Task 7: Delete the sets completely del A, B\n",
    "del A, B\n",
    "# The sets A and B are deleted"
   ]
  },
  {
   "cell_type": "markdown",
   "metadata": {},
   "source": [
    "# EXERCISES: LEVEL 3"
   ]
  },
  {
   "cell_type": "code",
   "execution_count": 22,
   "metadata": {},
   "outputs": [
    {
     "name": "stdout",
     "output_type": "stream",
     "text": [
      "Length of the list: 8\n",
      "Length of the set: 5\n"
     ]
    }
   ],
   "source": [
    "# Given list\n",
    "age = [22, 19, 24, 25, 26, 24, 25, 24]\n",
    "\n",
    "# Task 1: Convert the ages to a set and compare the length of the list and the set\n",
    "age_set = set(age)\n",
    "list_length = len(age)\n",
    "set_length = len(age_set)\n",
    "\n",
    "print(f\"Length of the list: {list_length}\")\n",
    "print(f\"Length of the set: {set_length}\")"
   ]
  },
  {
   "cell_type": "code",
   "execution_count": 23,
   "metadata": {},
   "outputs": [
    {
     "name": "stdout",
     "output_type": "stream",
     "text": [
      "The list has more unique elements than the set.\n"
     ]
    }
   ],
   "source": [
    "# Compar length of list and set\n",
    "if set_length > list_length:\n",
    "    print(\"The set has more unique elements than the list.\")\n",
    "elif set_length < list_length:\n",
    "    print(\"The list has more unique elements than the set.\")\n",
    "else:\n",
    "    print(\"The list and the set have the same number of unique elements.\")\n"
   ]
  },
  {
   "cell_type": "markdown",
   "metadata": {},
   "source": [
    "# Task 2"
   ]
  },
  {
   "cell_type": "markdown",
   "metadata": {},
   "source": [
    "A string is like a line of text, which could be a sentence or a single word.\n",
    "It's essentially a chain of letters, forming a sequence of characters.\n",
    "Once you create a string, you cannot change the letters; it's fixed and unalterable (immutable).\n",
    "Strings are often referred to as a line of text in programming.\n",
    "Example: \"Hello World\"\n",
    "\n",
    "A list is like a collection of items, similar to making a shopping list.\n",
    "You can add, remove, or modify items in the list (mutable).\n",
    "Example: [1, 2, 3, \"apple\", \"banana\"]\n",
    "\n",
    " Tuple data type is similar to a list, but once you set the items, you cannot change them (immutable).\n",
    " it like a fixed list that you can't rearrange.\n",
    "Example: (10, 20, 30, \"red\", \"blue\")\n",
    "\n",
    " set is  a bag of unique items; each item is different, and there's no order.\n",
    "You can add or remove items, but there's no specific order (mutable).\n",
    "Example: {3, 5, \"cat\", \"dog\"}\n",
    "\n",
    "\n",
    "\n"
   ]
  },
  {
   "cell_type": "code",
   "execution_count": 24,
   "metadata": {},
   "outputs": [
    {
     "name": "stdout",
     "output_type": "stream",
     "text": [
      "Number of unique words in the sentence: 10\n"
     ]
    }
   ],
   "source": [
    "# Task 3: Count unique words in a sentence\n",
    "sentence = \"I am a teacher and I love to inspire and teach people.\"\n",
    "words = set(sentence.split())\n",
    "unique_word_count = len(words)\n",
    "\n",
    "print(f\"Number of unique words in the sentence: {unique_word_count}\")"
   ]
  }
 ],
 "metadata": {
  "kernelspec": {
   "display_name": "datascience",
   "language": "python",
   "name": "python3"
  },
  "language_info": {
   "codemirror_mode": {
    "name": "ipython",
    "version": 3
   },
   "file_extension": ".py",
   "mimetype": "text/x-python",
   "name": "python",
   "nbconvert_exporter": "python",
   "pygments_lexer": "ipython3",
   "version": "3.8.18"
  }
 },
 "nbformat": 4,
 "nbformat_minor": 2
}
