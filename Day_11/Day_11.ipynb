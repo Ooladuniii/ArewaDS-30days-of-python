{
 "cells": [
  {
   "cell_type": "markdown",
   "metadata": {},
   "source": [
    "# EXERCISES: LEVEL 1"
   ]
  },
  {
   "cell_type": "code",
   "execution_count": 54,
   "metadata": {},
   "outputs": [
    {
     "name": "stdout",
     "output_type": "stream",
     "text": [
      "6\n"
     ]
    }
   ],
   "source": [
    "# add two numbers \n",
    "def add_two_numbers ():\n",
    "    num_one = 2\n",
    "    num_two = 4\n",
    "    total = num_one + num_two\n",
    "    return total\n",
    "print (add_two_numbers())\n"
   ]
  },
  {
   "cell_type": "code",
   "execution_count": 55,
   "metadata": {},
   "outputs": [
    {
     "name": "stdout",
     "output_type": "stream",
     "text": [
      "200.96\n"
     ]
    }
   ],
   "source": [
    "# calculate area of a circle\n",
    "def area_of_circle (r):\n",
    "    PI = 3.14\n",
    "    area= PI * r ** 2\n",
    "    return area \n",
    "print(area_of_circle(8))"
   ]
  },
  {
   "cell_type": "code",
   "execution_count": 56,
   "metadata": {},
   "outputs": [
    {
     "name": "stdout",
     "output_type": "stream",
     "text": [
      "20\n"
     ]
    }
   ],
   "source": [
    "# sum all the numbers\n",
    "def sum_all_numbers(*nums):\n",
    "    total = 0\n",
    "    for num in nums:\n",
    "        total += num \n",
    "    return total\n",
    "print(sum_all_numbers (3, 4, 2, 5, 6))"
   ]
  },
  {
   "cell_type": "code",
   "execution_count": 57,
   "metadata": {},
   "outputs": [
    {
     "name": "stdout",
     "output_type": "stream",
     "text": [
      "68\n"
     ]
    }
   ],
   "source": [
    "# convert celsius to fahrenheit\n",
    "def convert_celsius_to_fahrenheit(celsius):\n",
    "    fehrenheit =int (celsius * 9/5) + 32\n",
    "    return fehrenheit\n",
    "print(convert_celsius_to_fahrenheit(20))\n"
   ]
  },
  {
   "cell_type": "code",
   "execution_count": 58,
   "metadata": {},
   "outputs": [
    {
     "name": "stdout",
     "output_type": "stream",
     "text": [
      "Winter\n"
     ]
    }
   ],
   "source": [
    "# check the season\n",
    "def check_season(month):\n",
    "    winter_months = [12, 1, 2]\n",
    "    spring_months = [3, 4, 5]\n",
    "    summer_months = [6, 7, 8]\n",
    "    autumn_months = [9, 10, 11]\n",
    "\n",
    "    if month in winter_months:\n",
    "        return \"Winter\"\n",
    "    elif month in spring_months:\n",
    "        return \"Spring\"\n",
    "    elif month in summer_months:\n",
    "        return \"Summer\"\n",
    "    elif month in autumn_months:\n",
    "        return \"Autumn\"\n",
    "    else:\n",
    "        return \"Invalid month. Please enter a month between 1 and 12.\"\n",
    "# Test check_season function\n",
    "result_season = check_season(12)\n",
    "print(result_season)  \n"
   ]
  },
  {
   "cell_type": "code",
   "execution_count": 59,
   "metadata": {},
   "outputs": [
    {
     "name": "stdout",
     "output_type": "stream",
     "text": [
      "2\n"
     ]
    }
   ],
   "source": [
    "def calculate_slope(x1, y1, x2, y2):\n",
    "    # Avoid division by zero\n",
    "    if x2 - x1 == 0:\n",
    "        raise ValueError(\"Invalid input: The x-values of the two points must be different.\")\n",
    "    \n",
    "    # Calculate slope using the formula: (y2 - y1) / (x2 - x1)\n",
    "    slope = (y2 - y1) / (x2 - x1)\n",
    "    return int(slope)  \n",
    "\n",
    "# Example usage:\n",
    "x1, y1 = 2, 3\n",
    "x2, y2 = 5, 9\n",
    "\n",
    "# print the slope as an integer\n",
    "print(calculate_slope(x1, y1, x2, y2))\n",
    "\n"
   ]
  },
  {
   "cell_type": "code",
   "execution_count": 60,
   "metadata": {},
   "outputs": [
    {
     "name": "stdout",
     "output_type": "stream",
     "text": [
      "(2.0, 1.0)\n"
     ]
    }
   ],
   "source": [
    "def solve_quadratic_eqn(a, b, c):\n",
    "# define the quadratic equation formula\n",
    "    formula = lambda x: a*x**2 + b*x + c\n",
    "    # Calculate the solutions using the quadratic formula\n",
    "    x1 = (-b + (b**2 - 4*a*c)**0.5) / (2*a)\n",
    "    x2 = (-b - (b**2 - 4*a*c)**0.5) / (2*a)\n",
    "\n",
    "    return x1, x2\n",
    "\n",
    "\n",
    "a, b, c = 1, -3, 2\n",
    "\n",
    "# print the solution set\n",
    "print(solve_quadratic_eqn(a, b, c))\n",
    "\n"
   ]
  },
  {
   "cell_type": "code",
   "execution_count": 61,
   "metadata": {},
   "outputs": [
    {
     "name": "stdout",
     "output_type": "stream",
     "text": [
      "1\n",
      "2\n",
      "come\n",
      "3.2\n",
      "leave\n"
     ]
    }
   ],
   "source": [
    "def print_list(my_list):\n",
    "    for element in my_list:\n",
    "        print(element)\n",
    "\n",
    "# Example usage:\n",
    "my_list = [1, 2, 'come', 3.2, 'leave']\n",
    "print_list(my_list)\n"
   ]
  },
  {
   "cell_type": "code",
   "execution_count": 62,
   "metadata": {},
   "outputs": [
    {
     "name": "stdout",
     "output_type": "stream",
     "text": [
      "[5, 4, 3, 2, 1]\n",
      "['C', 'B', 'A']\n"
     ]
    }
   ],
   "source": [
    "def reverse_list(my_list):\n",
    "    reversed_list = []\n",
    "    for i in range(len(my_list) - 1, -1, -1):\n",
    "        reversed_list.append(my_list[i])\n",
    "    return reversed_list\n",
    "\n",
    "\n",
    "print(reverse_list([1, 2, 3, 4, 5]))\n",
    "\n",
    "\n",
    "print(reverse_list([\"A\", \"B\", \"C\"]))\n",
    "\n"
   ]
  },
  {
   "cell_type": "code",
   "execution_count": 63,
   "metadata": {},
   "outputs": [
    {
     "name": "stdout",
     "output_type": "stream",
     "text": [
      "['Apple', 'Banana', 'Orange']\n"
     ]
    }
   ],
   "source": [
    "def capitalize_list_items(my_list):\n",
    "    capitalized_list = [item.capitalize() for item in my_list]\n",
    "    return capitalized_list\n",
    "\n",
    "# Example usage:\n",
    "original_list = [\"apple\", \"banana\", \"orange\"]\n",
    "print(capitalize_list_items(original_list))\n",
    "\n",
    "\n"
   ]
  },
  {
   "cell_type": "code",
   "execution_count": 64,
   "metadata": {},
   "outputs": [
    {
     "name": "stdout",
     "output_type": "stream",
     "text": [
      "['Potato', 'Tomato', 'Mango', 'Milk', 'Meat']\n",
      "[2, 3, 7, 9, 5]\n"
     ]
    }
   ],
   "source": [
    "def add_item(my_list, item):\n",
    "    new_list = my_list.copy()  # Create a copy to avoid modifying the original list\n",
    "    new_list.append(item)\n",
    "    return new_list\n",
    "\n",
    "\n",
    "food_staff = ['Potato', 'Tomato', 'Mango', 'Milk']\n",
    "result_food_staff = add_item(food_staff, 'Meat')\n",
    "print(result_food_staff)\n",
    "# Output: ['Potato', 'Tomato', 'Mango', 'Milk', 'Meat']\n",
    "\n",
    "numbers = [2, 3, 7, 9]\n",
    "result_numbers = add_item(numbers, 5)\n",
    "print(result_numbers)\n",
    "# Output: [2, 3, 7, 9, 5]\n"
   ]
  },
  {
   "cell_type": "code",
   "execution_count": 65,
   "metadata": {},
   "outputs": [
    {
     "name": "stdout",
     "output_type": "stream",
     "text": [
      "15\n",
      "55\n",
      "5050\n"
     ]
    }
   ],
   "source": [
    "def sum_of_numbers(n):\n",
    "    return sum(range(1, n + 1))\n",
    "\n",
    "# Example usage:\n",
    "print(sum_of_numbers(5))    \n",
    "print(sum_of_numbers(10))   \n",
    "print(sum_of_numbers(100)) \n"
   ]
  },
  {
   "cell_type": "code",
   "execution_count": 66,
   "metadata": {},
   "outputs": [
    {
     "name": "stdout",
     "output_type": "stream",
     "text": [
      "9\n",
      "25\n",
      "64\n"
     ]
    }
   ],
   "source": [
    "def sum_of_odds(n):\n",
    "    return sum(i for i in range(1, n + 1) if i % 2 != 0)\n",
    "\n",
    "# examples\n",
    "print(sum_of_odds(5))    \n",
    "print(sum_of_odds(10))   \n",
    "print(sum_of_odds(15))   \n"
   ]
  },
  {
   "cell_type": "code",
   "execution_count": 67,
   "metadata": {},
   "outputs": [
    {
     "name": "stdout",
     "output_type": "stream",
     "text": [
      "6\n",
      "30\n",
      "56\n"
     ]
    }
   ],
   "source": [
    "def sum_of_even(n):\n",
    "    return sum(i for i in range(1, n + 1) if i % 2 == 0)\n",
    "\n",
    "# Examples\n",
    "print(sum_of_even(5))    \n",
    "print(sum_of_even(10))   \n",
    "print(sum_of_even(15))   \n"
   ]
  },
  {
   "cell_type": "markdown",
   "metadata": {},
   "source": [
    "# EXERCISES: LEVEL 2"
   ]
  },
  {
   "cell_type": "code",
   "execution_count": 68,
   "metadata": {},
   "outputs": [
    {
     "name": "stdout",
     "output_type": "stream",
     "text": [
      "The number of odds are 50.\n",
      "The number of evens are 51.\n"
     ]
    }
   ],
   "source": [
    "def evens_and_odds(n):\n",
    "    if n <= 0:\n",
    "        return \"Please provide a positive integer.\"\n",
    "\n",
    "    evens_count = 0\n",
    "    odds_count = 0\n",
    "\n",
    "    for i in range(n + 1):\n",
    "        if i % 2 == 0:\n",
    "            evens_count += 1\n",
    "        else:\n",
    "            odds_count += 1\n",
    "\n",
    "    return f\"The number of odds are {odds_count}.\\nThe number of evens are {evens_count}.\"\n",
    "\n",
    "# print result\n",
    "print(evens_and_odds(100))\n"
   ]
  },
  {
   "cell_type": "code",
   "execution_count": 69,
   "metadata": {},
   "outputs": [
    {
     "name": "stdout",
     "output_type": "stream",
     "text": [
      "The factorial of 5 is 120\n"
     ]
    }
   ],
   "source": [
    "def factorial(n):\n",
    "    if n < 0:\n",
    "        return \"Factorial is not defined for negative numbers.\"\n",
    "    elif n == 0 or n == 1:\n",
    "        return 1\n",
    "    else:\n",
    "        result = 1\n",
    "        for i in range(2, n + 1):\n",
    "            result *= i\n",
    "        return result\n",
    "\n",
    "# Example usage:\n",
    "number = 5\n",
    "print(f\"The factorial of {number} is {factorial(number)}\")\n"
   ]
  },
  {
   "cell_type": "code",
   "execution_count": 70,
   "metadata": {},
   "outputs": [
    {
     "name": "stdout",
     "output_type": "stream",
     "text": [
      "Is the string empty? True\n",
      "Is the string empty? False\n",
      "Is the list empty? True\n",
      "Is the list empty? False\n"
     ]
    }
   ],
   "source": [
    "def is_empty(data):\n",
    "    if data is None:\n",
    "        return True\n",
    "    elif isinstance(data, str) and not data.strip():\n",
    "        return True\n",
    "    elif isinstance(data, (list, tuple, dict, set)) and not data:\n",
    "        return True\n",
    "    else:\n",
    "        return False\n",
    "\n",
    "# Examples\n",
    "empty_string = \"\"\n",
    "non_empty_string = \"Hello, World!\"\n",
    "empty_list = []\n",
    "non_empty_list = [1, 2, 3]\n",
    "\n",
    "print(f\"Is the string empty? {is_empty(empty_string)}\")  # True\n",
    "print(f\"Is the string empty? {is_empty(non_empty_string)}\")  # False\n",
    "\n",
    "print(f\"Is the list empty? {is_empty(empty_list)}\")  # True\n",
    "print(f\"Is the list empty? {is_empty(non_empty_list)}\")  # False\n"
   ]
  },
  {
   "cell_type": "code",
   "execution_count": 71,
   "metadata": {},
   "outputs": [
    {
     "name": "stdout",
     "output_type": "stream",
     "text": [
      "Mean: 5.0\n",
      "Median: 5.0\n",
      "Mode: 5.0\n",
      "Range: 8\n",
      "Variance: 6.0\n",
      "Standard Deviation: 2.449489742783178\n"
     ]
    }
   ],
   "source": [
    "import numpy as np\n",
    "\n",
    "def calculate_mean(data):\n",
    "    \"\"\"\n",
    "    Calculate the mean (average) of a list using numpy.\n",
    "    \"\"\"\n",
    "    if not data:\n",
    "        return None\n",
    "    return np.mean(data)\n",
    "\n",
    "def calculate_median(data):\n",
    "    \"\"\"\n",
    "    Calculate the median of a list using numpy.\n",
    "    \"\"\"\n",
    "    if not data:\n",
    "        return None\n",
    "    return np.median(data)\n",
    "\n",
    "def calculate_mode(data):\n",
    "    \"\"\"\n",
    "    Calculate the mode of a list using numpy.\n",
    "    \"\"\"\n",
    "    if not data:\n",
    "        return None\n",
    "    return float(np.argmax(np.bincount(data)))\n",
    "\n",
    "def calculate_range(data):\n",
    "    \"\"\"\n",
    "    Calculate the range of a list using numpy.\n",
    "    \"\"\"\n",
    "    if not data:\n",
    "        return None\n",
    "    return np.ptp(data)\n",
    "\n",
    "def calculate_variance(data):\n",
    "    \"\"\"\n",
    "    Calculate the variance of a list using numpy.\n",
    "    \"\"\"\n",
    "    if not data:\n",
    "        return None\n",
    "    return np.var(data)\n",
    "\n",
    "def calculate_std(data):\n",
    "    \"\"\"\n",
    "    Calculate the standard deviation of a list using numpy.\n",
    "    \"\"\"\n",
    "    if not data:\n",
    "        return None\n",
    "    return np.std(data)\n",
    "\n",
    "# Example usage:\n",
    "data_list = [1, 2, 3, 4, 5, 5, 6, 7, 8, 9]\n",
    "\n",
    "print(f\"Mean: {calculate_mean(data_list)}\")\n",
    "print(f\"Median: {calculate_median(data_list)}\")\n",
    "print(f\"Mode: {calculate_mode(data_list)}\")\n",
    "print(f\"Range: {calculate_range(data_list)}\")\n",
    "print(f\"Variance: {calculate_variance(data_list)}\")\n",
    "print(f\"Standard Deviation: {calculate_std(data_list)}\")\n"
   ]
  },
  {
   "cell_type": "markdown",
   "metadata": {},
   "source": [
    "# EXERCISES: LEVEL 3"
   ]
  },
  {
   "cell_type": "code",
   "execution_count": 72,
   "metadata": {},
   "outputs": [
    {
     "name": "stdout",
     "output_type": "stream",
     "text": [
      "17 is a prime number.\n"
     ]
    }
   ],
   "source": [
    "def is_prime(number):\n",
    "    \"\"\"\n",
    "    Check if a number is prime.\n",
    "    \"\"\"\n",
    "    return number > 1 and all(number % i != 0 for i in range(2, int(number**0.5) + 1))\n",
    "\n",
    "\n",
    "num = 17\n",
    "if is_prime(num):\n",
    "    print(f\"{num} is a prime number.\")\n",
    "else:\n",
    "    print(f\"{num} is not a prime number.\")\n"
   ]
  },
  {
   "cell_type": "code",
   "execution_count": 73,
   "metadata": {},
   "outputs": [
    {
     "name": "stdout",
     "output_type": "stream",
     "text": [
      "True\n",
      "False\n"
     ]
    }
   ],
   "source": [
    "def are_all_unique(lst):\n",
    "    \"\"\"\n",
    "    Check if all items in a list are unique.\n",
    "    \"\"\"\n",
    "    return len(lst) == len(set(lst))\n",
    "\n",
    "# Example usage:\n",
    "unique_list = [1, 2, 3, 4, 5]\n",
    "non_unique_list = [1, 2, 3, 4, 5, 1]\n",
    "\n",
    "print(are_all_unique(unique_list))  \n",
    "print(are_all_unique(non_unique_list))  \n"
   ]
  },
  {
   "cell_type": "code",
   "execution_count": 74,
   "metadata": {},
   "outputs": [
    {
     "name": "stdout",
     "output_type": "stream",
     "text": [
      "True\n",
      "False\n"
     ]
    }
   ],
   "source": [
    "def are_all_same_type(lst):\n",
    "    \"\"\"\n",
    "    Check if all items in a list are of the same data type.\n",
    "    \"\"\"\n",
    "    return all(isinstance(item, type(lst[0])) for item in lst)\n",
    "\n",
    "\n",
    "same_type_list = [1, 2, 3, 4, 5]\n",
    "mixed_type_list = [1, 'two', 3.0, [4, 5]]\n",
    "\n",
    "print(are_all_same_type(same_type_list))  \n",
    "print(are_all_same_type(mixed_type_list))  \n"
   ]
  },
  {
   "cell_type": "code",
   "execution_count": 75,
   "metadata": {},
   "outputs": [
    {
     "name": "stdout",
     "output_type": "stream",
     "text": [
      "True\n",
      "False\n"
     ]
    }
   ],
   "source": [
    "import re\n",
    "\n",
    "def is_valid_python_variable(variable_name):\n",
    "    \"\"\"\n",
    "    Check if the provided variable name is a valid Python variable.\n",
    "    \"\"\"\n",
    "    # Check if the variable name is a valid identifier\n",
    "    if not re.match(r'^[a-zA-Z_][a-zA-Z0-9_]*$', variable_name):\n",
    "        return False\n",
    "    \n",
    "    # Check if the variable name is not a reserved word\n",
    "    reserved_words = set([\n",
    "        'and', 'as', 'assert', 'break', 'class', 'continue', 'def', 'del',\n",
    "        'elif', 'else', 'except', 'False', 'finally', 'for', 'from', 'global',\n",
    "        'if', 'import', 'in', 'is', 'lambda', 'None', 'nonlocal', 'not', 'or',\n",
    "        'pass', 'raise', 'return', 'True', 'try', 'while', 'with', 'yield'\n",
    "    ])\n",
    "    \n",
    "    if variable_name in reserved_words:\n",
    "        return False\n",
    "    \n",
    "    return True\n",
    "\n",
    "# Example usage:\n",
    "valid_variable = 'my_variable'\n",
    "invalid_variable = '2nd_variable'\n",
    "\n",
    "print(is_valid_python_variable(valid_variable))  \n",
    "print(is_valid_python_variable(invalid_variable))  \n"
   ]
  }
 ],
 "metadata": {
  "kernelspec": {
   "display_name": "datascience",
   "language": "python",
   "name": "python3"
  },
  "language_info": {
   "codemirror_mode": {
    "name": "ipython",
    "version": 3
   },
   "file_extension": ".py",
   "mimetype": "text/x-python",
   "name": "python",
   "nbconvert_exporter": "python",
   "pygments_lexer": "ipython3",
   "version": "3.8.18"
  }
 },
 "nbformat": 4,
 "nbformat_minor": 2
}
