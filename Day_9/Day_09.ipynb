{
 "cells": [
  {
   "cell_type": "markdown",
   "metadata": {},
   "source": [
    "# EXERCISES: LEVEL 1"
   ]
  },
  {
   "cell_type": "code",
   "execution_count": 9,
   "metadata": {},
   "outputs": [
    {
     "name": "stdout",
     "output_type": "stream",
     "text": [
      "You are old enough to learn to drive.\n"
     ]
    }
   ],
   "source": [
    "# Task 1: Check if the user is old enough to drive\n",
    "\n",
    "# Get user input for age\n",
    "user_age = int(input(\"Enter your age: \"))\n",
    "\n",
    "# Check if the user is 18 or older\n",
    "if user_age >= 18:\n",
    "    print(\"You are old enough to learn to drive.\")\n",
    "else:\n",
    "    # Calculate the number of years the user needs to wait\n",
    "    years_to_wait = 18 - user_age\n",
    "    print(f\"You need {years_to_wait} more years to learn to drive.\")\n"
   ]
  },
  {
   "cell_type": "code",
   "execution_count": 12,
   "metadata": {},
   "outputs": [
    {
     "name": "stdout",
     "output_type": "stream",
     "text": [
      "You need 3 more years to learn to drive.\n"
     ]
    }
   ],
   "source": [
    "# Task 1: Check if the user is old enough to drive\n",
    "\n",
    "# Get user input for age\n",
    "user_age = int(input(\"Enter your age: \"))\n",
    "\n",
    "# Check if the user is 18 or older\n",
    "if user_age >= 18:\n",
    "    print(\"You are old enough to learn to drive.\")\n",
    "else:\n",
    "    # Calculate the number of years the user needs to wait\n",
    "    years_to_wait = 18 - user_age\n",
    "    print(f\"You need {years_to_wait} more years to learn to drive.\")\n",
    "\n"
   ]
  },
  {
   "cell_type": "code",
   "execution_count": 13,
   "metadata": {},
   "outputs": [
    {
     "name": "stdout",
     "output_type": "stream",
     "text": [
      "You are 5 years older than me.\n"
     ]
    }
   ],
   "source": [
    "# Task 2: Compare my_age and your_age\n",
    "\n",
    "# Get user input for your_age\n",
    "your_age = int(input(\"Enter your age: \"))\n",
    "\n",
    "# Set my_age (you can change this to your actual age)\n",
    "my_age = 25\n",
    "\n",
    "# Compare ages and provide feedback\n",
    "if my_age > your_age:\n",
    "    age_difference = my_age - your_age  # your_age is 30\n",
    "    if age_difference == 1:\n",
    "        print(f\"I am {age_difference} year older than you.\")\n",
    "    else:\n",
    "        print(f\"I am {age_difference} years older than you.\")\n",
    "elif my_age < your_age:\n",
    "    age_difference = your_age - my_age\n",
    "    if age_difference == 1:\n",
    "        print(f\"You are {age_difference} year older than me.\")\n",
    "    else:\n",
    "        print(f\"You are {age_difference} years older than me.\")\n",
    "else:\n",
    "    print(\"We are the same age.\")\n"
   ]
  },
  {
   "cell_type": "code",
   "execution_count": 14,
   "metadata": {},
   "outputs": [
    {
     "name": "stdout",
     "output_type": "stream",
     "text": [
      "4 is greater than 3.\n"
     ]
    }
   ],
   "source": [
    "# Get two numbers from the user\n",
    "number_one = int(input(\"Enter number one: \"))\n",
    "number_two = int(input(\"Enter number two: \"))\n",
    "\n",
    "# Compare the two numbers\n",
    "if number_one > number_two:\n",
    "    print(f\"{number_one} is greater than {number_two}.\")\n",
    "elif number_one < number_two:\n",
    "    print(f\"{number_one} is smaller than {number_two}.\")\n",
    "else:\n",
    "    print(f\"{number_one} is equal to {number_two}.\")\n"
   ]
  },
  {
   "cell_type": "markdown",
   "metadata": {},
   "source": [
    "# EXERCISES LEVEL 2"
   ]
  },
  {
   "cell_type": "code",
   "execution_count": 15,
   "metadata": {},
   "outputs": [
    {
     "name": "stdout",
     "output_type": "stream",
     "text": [
      "The student's grade is: B\n"
     ]
    }
   ],
   "source": [
    "# Specify the student's score directly in the code\n",
    "score = 75  # Replace with the desired score\n",
    "\n",
    "# Assign the grade based on the score range\n",
    "if 80 <= score <= 100:\n",
    "    grade = 'A'\n",
    "elif 70 <= score < 80:\n",
    "    grade = 'B'\n",
    "elif 60 <= score < 70:\n",
    "    grade = 'C'\n",
    "elif 50 <= score < 60:\n",
    "    grade = 'D'\n",
    "elif 0 <= score < 50:\n",
    "    grade = 'F'\n",
    "else:\n",
    "    print(\"Invalid score. Please enter a score between 0 and 100.\")\n",
    "    grade = None\n",
    "\n",
    "# Print the grade if it's valid\n",
    "if grade is not None:\n",
    "    print(f\"The student's grade is: {grade}\")\n"
   ]
  },
  {
   "cell_type": "code",
   "execution_count": null,
   "metadata": {},
   "outputs": [
    {
     "name": "stdout",
     "output_type": "stream",
     "text": [
      "The season in October is: Autumn\n"
     ]
    }
   ],
   "source": [
    "# Specify the month directly in the code\n",
    "month = 'October' \n",
    "\n",
    "# Determine the season based on the month\n",
    "if month.lower() in ['september', 'october', 'november']:\n",
    "    season = 'Autumn'\n",
    "elif month.lower() in ['december', 'january', 'february']:\n",
    "    season = 'Winter'\n",
    "elif month.lower() in ['march', 'april', 'may']:\n",
    "    season = 'Spring'\n",
    "elif month.lower() in ['june', 'july', 'august']:\n",
    "    season = 'Summer'\n",
    "else:\n",
    "    print(\"Invalid month. Please enter a valid month.\")\n",
    "    season = None\n",
    "\n",
    "# Print the season if it's valid\n",
    "if season is not None:\n",
    "    print(f\"The season in {month.capitalize()} is: {season}\")\n"
   ]
  },
  {
   "cell_type": "code",
   "execution_count": 16,
   "metadata": {},
   "outputs": [
    {
     "name": "stdout",
     "output_type": "stream",
     "text": [
      "Apple added to the list. Modified list: ['banana', 'orange', 'mango', 'lemon', 'apple']\n"
     ]
    }
   ],
   "source": [
    "# The initial list of fruits\n",
    "fruits = ['banana', 'orange', 'mango', 'lemon']\n",
    "\n",
    "# Specify a new fruit directly in the code\n",
    "new_fruit = 'apple'  \n",
    "\n",
    "# Check if the fruit exists in the list\n",
    "if new_fruit.lower() not in [fruit.lower() for fruit in fruits]:\n",
    "    fruits.append(new_fruit)\n",
    "    print(f\"{new_fruit.capitalize()} added to the list. Modified list: {fruits}\")\n",
    "else:\n",
    "    print(f\"{new_fruit.capitalize()} already exists in the list.\")\n"
   ]
  },
  {
   "cell_type": "markdown",
   "metadata": {},
   "source": [
    "# EXERCISES: LEVEL 3"
   ]
  },
  {
   "cell_type": "code",
   "execution_count": 20,
   "metadata": {},
   "outputs": [
    {
     "name": "stdout",
     "output_type": "stream",
     "text": [
      "Middle skill: Node\n",
      "Person has Python skill.\n",
      "He is a backend developer\n"
     ]
    }
   ],
   "source": [
    "person = {\n",
    "    'first_name': 'Asabeneh',\n",
    "    'last_name': 'Yetayeh',\n",
    "    'age': 250,\n",
    "    'country': 'Finland',\n",
    "    'is_married': True,\n",
    "    'skills': ['JavaScript', 'React', 'Node', 'MongoDB', 'Python'],\n",
    "    'address': {\n",
    "        'street': 'Space street',\n",
    "        'zipcode': '02210'\n",
    "    }\n",
    "}\n",
    "\n",
    "# Check if the person dictionary has skills key\n",
    "if 'skills' in person:\n",
    "    skills = person['skills']\n",
    "\n",
    "    # Print out the middle skill in the skills list\n",
    "    if len(skills) % 2 != 0:\n",
    "        middle_skill = skills[len(skills) // 2]\n",
    "        print(f\"Middle skill: {middle_skill}\")\n",
    "\n",
    "    # Check if the person has 'Python' skill\n",
    "    if 'Python' in skills:\n",
    "        print(\"Person has Python skill.\")\n",
    "\n",
    "    # Check developer title based on skills\n",
    "    if set(['JavaScript', 'React']) == set(skills):\n",
    "        print(\"He is a front end developer\")\n",
    "    elif set(['Node', 'Python', 'MongoDB']).issubset(set(skills)):\n",
    "        print(\"He is a backend developer\")\n",
    "    elif set(['React', 'Node', 'MongoDB']).issubset(set(skills)):\n",
    "        print(\"He is a fullstack developer\")\n",
    "    else:\n",
    "        print(\"Unknown title\")\n",
    "\n"
   ]
  },
  {
   "cell_type": "code",
   "execution_count": 19,
   "metadata": {},
   "outputs": [
    {
     "name": "stdout",
     "output_type": "stream",
     "text": [
      "Asabeneh Yetayeh lives in Finland. He is married.\n"
     ]
    }
   ],
   "source": [
    "#check if the person is married and lives in Finland\n",
    "if person.get('is_married', False) and person.get('country', '') == 'Finland':\n",
    "    print(f\"{person['first_name']} {person['last_name']} lives in {person['country']}. He is married.\")\n"
   ]
  }
 ],
 "metadata": {
  "kernelspec": {
   "display_name": "datascience",
   "language": "python",
   "name": "python3"
  },
  "language_info": {
   "codemirror_mode": {
    "name": "ipython",
    "version": 3
   },
   "file_extension": ".py",
   "mimetype": "text/x-python",
   "name": "python",
   "nbconvert_exporter": "python",
   "pygments_lexer": "ipython3",
   "version": "3.8.18"
  }
 },
 "nbformat": 4,
 "nbformat_minor": 2
}
