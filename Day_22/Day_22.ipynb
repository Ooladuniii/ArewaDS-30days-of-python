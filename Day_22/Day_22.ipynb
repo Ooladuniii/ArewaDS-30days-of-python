{
 "cells": [
  {
   "cell_type": "markdown",
   "metadata": {},
   "source": [
    "# EXERCISES: Day 22"
   ]
  },
  {
   "cell_type": "code",
   "execution_count": 19,
   "metadata": {},
   "outputs": [],
   "source": [
    "import requests\n",
    "from bs4 import BeautifulSoup\n",
    "import json"
   ]
  },
  {
   "cell_type": "code",
   "execution_count": 20,
   "metadata": {},
   "outputs": [
    {
     "name": "stdout",
     "output_type": "stream",
     "text": [
      "200\n",
      "Data scraped and saved as bu_facts.json\n"
     ]
    }
   ],
   "source": [
    "url = 'http://www.bu.edu/president/boston-university-facts-stats/'\n",
    "\n",
    "# Make a GET request to the URL\n",
    "response = requests.get(url)\n",
    "# check if the request was successful\n",
    "status = response.status_code\n",
    "print(status)\n",
    "\n",
    "# Parse the HTML content with BeautifulSoup\n",
    "soup = BeautifulSoup(response.content, 'html.parser')\n",
    "\n",
    "# Extract the relevant data from the webpage\n",
    "data = {}\n",
    "for fact in soup.find_all('div', class_='info-panel'):\n",
    "    category = fact.find('div', class_='category').text.strip()\n",
    "    value = fact.find('div', class_='value').text.strip()\n",
    "    data[category] = value\n",
    "\n",
    "# Store the data as a JSON file\n",
    "if status == 200:\n",
    "    with open('bu_facts.json', 'w') as json_file:\n",
    "        json.dump(data, json_file, indent=2)\n",
    "\n",
    "    print('Data scraped and saved as bu_facts.json')\n",
    "else:\n",
    "    print(f'Failed to retrieve data. Status Code: {status}')\n"
   ]
  },
  {
   "cell_type": "code",
   "execution_count": 21,
   "metadata": {},
   "outputs": [
    {
     "name": "stdout",
     "output_type": "stream",
     "text": [
      "{}\n"
     ]
    }
   ],
   "source": [
    "# Specify the filename\n",
    "filename = 'bu_facts.json'\n",
    "\n",
    "# Open and read the JSON file\n",
    "with open(filename, 'r') as json_file:\n",
    "    data = json.load(json_file)\n",
    "\n",
    "\n",
    "# print the data\n",
    "print(data)\n"
   ]
  },
  {
   "cell_type": "code",
   "execution_count": 22,
   "metadata": {},
   "outputs": [
    {
     "name": "stdout",
     "output_type": "stream",
     "text": [
      "404\n",
      "Failed to retrieve data. Status Code: 404\n"
     ]
    }
   ],
   "source": [
    "url = 'https://archive.ics.uci.edu/ml/datasets.php'\n",
    "\n",
    "# Make a GET request to the URL\n",
    "response = requests.get(url)\n",
    "\n",
    "# check if the request was successful\n",
    "status = response.status_code\n",
    "print(status)\n",
    "\n",
    "if status == 200:\n",
    "    # Parse the HTML content with BeautifulSoup\n",
    "    soup = BeautifulSoup(response.content, 'html.parser')\n",
    "\n",
    "    # Extract the table data\n",
    "    table = soup.find('table')\n",
    "\n",
    "    # Process table data into a list of dictionaries\n",
    "    table_data = []\n",
    "    headers = [header.text.strip() for header in table.find_all('th')]\n",
    "    for row in table.find_all('tr')[1:]:\n",
    "        row_data = {}\n",
    "        for idx, cell in enumerate(row.find_all('td')):\n",
    "            row_data[headers[idx]] = cell.text.strip()\n",
    "        table_data.append(row_data)\n",
    "\n",
    "    # Store the data as a JSON file\n",
    "    with open('uci_datasets.json', 'w') as json_file:\n",
    "        json.dump(table_data, json_file, indent=2)\n",
    "\n",
    "    print('Table data scraped and saved as uci_datasets.json')\n",
    "else:\n",
    "    print(f'Failed to retrieve data. Status Code: {status}')\n"
   ]
  },
  {
   "cell_type": "code",
   "execution_count": 23,
   "metadata": {},
   "outputs": [
    {
     "name": "stdout",
     "output_type": "stream",
     "text": [
      "Data scraped and saved as presidents_data.json\n"
     ]
    }
   ],
   "source": [
    "def scrape_presidents_table(url):\n",
    "    # Specify a user-agent in the headers\n",
    "    headers = {'User-Agent': 'Mozilla/5.0 (Windows NT 10.0; Win64; x64) AppleWebKit/537.36 (KHTML, like Gecko) Chrome/91.0.4472.124 Safari/537.36'}\n",
    "    \n",
    "    # Fetch page content using requests with specified headers\n",
    "    response = requests.get(url, headers=headers)\n",
    "\n",
    "    # check if the request was successful\n",
    "    status = response.status_code\n",
    "\n",
    "    if status != 200:\n",
    "        print(f'Failed to retrieve data. Status Code: {status}')\n",
    "        return None\n",
    "\n",
    "    # Parse the HTML content with BeautifulSoup\n",
    "    soup = BeautifulSoup(response.content, 'html.parser')\n",
    "\n",
    "    # Find the Presidents table\n",
    "    presidents_table = soup.find('table', {'class': 'wikitable'})\n",
    "\n",
    "    if not presidents_table:\n",
    "        print(\"Presidents table not found.\")\n",
    "        return None\n",
    "\n",
    "    # Extract the table data\n",
    "    table_data = []\n",
    "    headers = None\n",
    "    for row_num, row in enumerate(presidents_table.find_all('tr')):\n",
    "        if row_num == 0:\n",
    "            # Extract headers from the first row\n",
    "            headers = [header.text.strip() for header in row.find_all(['th', 'td'])]\n",
    "        else:\n",
    "            # Extract data from subsequent rows\n",
    "            row_data = {}\n",
    "            for idx, cell in enumerate(row.find_all(['th', 'td'])):\n",
    "                if idx < len(headers):\n",
    "                    row_data[headers[idx]] = cell.text.strip()\n",
    "            table_data.append(row_data)\n",
    "\n",
    "    return table_data\n",
    "\n",
    "def save_as_json(data, filename):\n",
    "    with open(filename, 'w') as json_file:\n",
    "        json.dump(data, json_file, indent=2)\n",
    "\n",
    "url = 'https://en.wikipedia.org/wiki/List_of_presidents_of_the_United_States'\n",
    "presidents_data = scrape_presidents_table(url)\n",
    "\n",
    "if presidents_data:\n",
    "    save_as_json(presidents_data, 'presidents_data.json')\n",
    "    print('Data scraped and saved as presidents_data.json')\n",
    "else:\n",
    "    print('Failed to retrieve and process data.')\n"
   ]
  },
  {
   "cell_type": "code",
   "execution_count": 24,
   "metadata": {},
   "outputs": [
    {
     "name": "stdout",
     "output_type": "stream",
     "text": [
      "[{'No.[a]': '1', 'Portrait': '', 'Name(Birth–Death)': 'George Washington(1732–1799)[17]', 'Term[14]': 'April 30, 1789–March 4, 1797', 'Party[b][15]': '', 'Election': 'Unaffiliated', 'Vice President[16]': '1788–1789\\n\\n1792'}, {'No.[a]': '2', 'Portrait': '', 'Name(Birth–Death)': 'John Adams(1735–1826)[19]', 'Term[14]': 'March 4, 1797–March 4, 1801', 'Party[b][15]': '', 'Election': 'Federalist', 'Vice President[16]': '1796'}, {'No.[a]': '3', 'Portrait': '', 'Name(Birth–Death)': 'Thomas Jefferson(1743–1826)[21]', 'Term[14]': 'March 4, 1801–March 4, 1809', 'Party[b][15]': '', 'Election': 'Democratic-Republican', 'Vice President[16]': '1800\\n\\n1804'}, {'No.[a]': '4', 'Portrait': '', 'Name(Birth–Death)': 'James Madison(1751–1836)[22]', 'Term[14]': 'March 4, 1809–March 4, 1817', 'Party[b][15]': '', 'Election': 'Democratic-Republican', 'Vice President[16]': '1808\\n\\n1812'}, {'No.[a]': '5', 'Portrait': '', 'Name(Birth–Death)': 'James Monroe(1758–1831)[24]', 'Term[14]': 'March 4, 1817–March 4, 1825', 'Party[b][15]': '', 'Election': 'Democratic-Republican', 'Vice President[16]': '1816\\n\\n1820'}, {'No.[a]': '6', 'Portrait': '', 'Name(Birth–Death)': 'John Quincy Adams(1767–1848)[25]', 'Term[14]': 'March 4, 1825–March 4, 1829', 'Party[b][15]': '', 'Election': 'Democratic-Republican[f]\\n\\nNational Republican', 'Vice President[16]': '1824'}, {'No.[a]': '7', 'Portrait': '', 'Name(Birth–Death)': 'Andrew Jackson(1767–1845)[28]', 'Term[14]': 'March 4, 1829–March 4, 1837', 'Party[b][15]': '', 'Election': 'Democratic', 'Vice President[16]': '1828\\n\\n1832'}, {'No.[a]': '8', 'Portrait': '', 'Name(Birth–Death)': 'Martin Van Buren(1782–1862)[29]', 'Term[14]': 'March 4, 1837–March 4, 1841', 'Party[b][15]': '', 'Election': 'Democratic', 'Vice President[16]': '1836'}, {'No.[a]': '9', 'Portrait': '', 'Name(Birth–Death)': 'William Henry Harrison(1773–1841)[30]', 'Term[14]': 'March 4, 1841–April 4, 1841[e]', 'Party[b][15]': '', 'Election': 'Whig', 'Vice President[16]': '1840'}, {'No.[a]': '10', 'Portrait': '', 'Name(Birth–Death)': 'John Tyler(1790–1862)[31]', 'Term[14]': 'April 4, 1841[i]–March 4, 1845', 'Party[b][15]': '', 'Election': 'Whig[j]\\n\\nUnaffiliated', 'Vice President[16]': '–'}, {'No.[a]': '11', 'Portrait': '', 'Name(Birth–Death)': 'James K. Polk(1795–1849)[34]', 'Term[14]': 'March 4, 1845–March 4, 1849', 'Party[b][15]': '', 'Election': 'Democratic', 'Vice President[16]': '1844'}, {'No.[a]': '12', 'Portrait': '', 'Name(Birth–Death)': 'Zachary Taylor(1784–1850)[35]', 'Term[14]': 'March 4, 1849–July 9, 1850[e]', 'Party[b][15]': '', 'Election': 'Whig', 'Vice President[16]': '1848'}, {'No.[a]': '13', 'Portrait': '', 'Name(Birth–Death)': 'Millard Fillmore(1800–1874)[36]', 'Term[14]': 'July 9, 1850[k]–March 4, 1853', 'Party[b][15]': '', 'Election': 'Whig', 'Vice President[16]': '–'}, {'No.[a]': '14', 'Portrait': '', 'Name(Birth–Death)': 'Franklin Pierce(1804–1869)[38]', 'Term[14]': 'March 4, 1853–March 4, 1857', 'Party[b][15]': '', 'Election': 'Democratic', 'Vice President[16]': '1852'}, {'No.[a]': '15', 'Portrait': '', 'Name(Birth–Death)': 'James Buchanan(1791–1868)[39]', 'Term[14]': 'March 4, 1857–March 4, 1861', 'Party[b][15]': '', 'Election': 'Democratic', 'Vice President[16]': '1856'}, {'No.[a]': '16', 'Portrait': '', 'Name(Birth–Death)': 'Abraham Lincoln(1809–1865)[40]', 'Term[14]': 'March 4, 1861–April 15, 1865[e]', 'Party[b][15]': '', 'Election': 'Republican\\n\\nNational Union[l]', 'Vice President[16]': '1860\\n\\n1864'}, {'No.[a]': '17', 'Portrait': '', 'Name(Birth–Death)': 'Andrew Johnson(1808–1875)[42]', 'Term[14]': 'April 15, 1865[m]–March 4, 1869', 'Party[b][15]': '', 'Election': 'National Union[n]\\n\\nDemocratic', 'Vice President[16]': '–'}, {'No.[a]': '18', 'Portrait': '', 'Name(Birth–Death)': 'Ulysses S. Grant(1822–1885)[43]', 'Term[14]': 'March 4, 1869–March 4, 1877', 'Party[b][15]': '', 'Election': 'Republican', 'Vice President[16]': '1868\\n\\n1872'}, {'No.[a]': '19', 'Portrait': '', 'Name(Birth–Death)': 'Rutherford B. Hayes(1822–1893)[44]', 'Term[14]': 'March 4, 1877–March 4, 1881', 'Party[b][15]': '', 'Election': 'Republican', 'Vice President[16]': '1876'}, {'No.[a]': '20', 'Portrait': '', 'Name(Birth–Death)': 'James A. Garfield(1831–1881)[45]', 'Term[14]': 'March 4, 1881–September 19, 1881[e]', 'Party[b][15]': '', 'Election': 'Republican', 'Vice President[16]': '1880'}, {'No.[a]': '21', 'Portrait': '', 'Name(Birth–Death)': 'Chester A. Arthur(1829–1886)[46]', 'Term[14]': 'September 19, 1881[o]–March 4, 1885', 'Party[b][15]': '', 'Election': 'Republican', 'Vice President[16]': '–'}, {'No.[a]': '22', 'Portrait': '', 'Name(Birth–Death)': 'Grover Cleveland(1837–1908)[48]', 'Term[14]': 'March 4, 1885–March 4, 1889', 'Party[b][15]': '', 'Election': 'Democratic', 'Vice President[16]': '1884'}, {'No.[a]': '23', 'Portrait': '', 'Name(Birth–Death)': 'Benjamin Harrison(1833–1901)[49]', 'Term[14]': 'March 4, 1889–March 4, 1893', 'Party[b][15]': '', 'Election': 'Republican', 'Vice President[16]': '1888'}, {'No.[a]': '24', 'Portrait': '', 'Name(Birth–Death)': 'Grover Cleveland(1837–1908)[48]', 'Term[14]': 'March 4, 1893–March 4, 1897', 'Party[b][15]': '', 'Election': 'Democratic', 'Vice President[16]': '1892'}, {'No.[a]': '25', 'Portrait': '', 'Name(Birth–Death)': 'William McKinley(1843–1901)[50]', 'Term[14]': 'March 4, 1897–September 14, 1901[e]', 'Party[b][15]': '', 'Election': 'Republican', 'Vice President[16]': '1896\\n\\n1900'}, {'No.[a]': '26', 'Portrait': '', 'Name(Birth–Death)': 'Theodore Roosevelt(1858–1919)[51]', 'Term[14]': 'September 14, 1901[p]–March 4, 1909', 'Party[b][15]': '', 'Election': 'Republican', 'Vice President[16]': '–\\n\\n1904'}, {'No.[a]': '27', 'Portrait': '', 'Name(Birth–Death)': 'William Howard Taft(1857–1930)[53]', 'Term[14]': 'March 4, 1909–March 4, 1913', 'Party[b][15]': '', 'Election': 'Republican', 'Vice President[16]': '1908'}, {'No.[a]': '28', 'Portrait': '', 'Name(Birth–Death)': 'Woodrow Wilson(1856–1924)[54]', 'Term[14]': 'March 4, 1913–March 4, 1921', 'Party[b][15]': '', 'Election': 'Democratic', 'Vice President[16]': '1912\\n\\n1916'}, {'No.[a]': '29', 'Portrait': '', 'Name(Birth–Death)': 'Warren G. Harding(1865–1923)[55]', 'Term[14]': 'March 4, 1921–August 2, 1923[e]', 'Party[b][15]': '', 'Election': 'Republican', 'Vice President[16]': '1920'}, {'No.[a]': '30', 'Portrait': '', 'Name(Birth–Death)': 'Calvin Coolidge(1872–1933)[56]', 'Term[14]': 'August 2, 1923[q]–March 4, 1929', 'Party[b][15]': '', 'Election': 'Republican', 'Vice President[16]': '–\\n\\n1924'}, {'No.[a]': '31', 'Portrait': '', 'Name(Birth–Death)': 'Herbert Hoover(1874–1964)[58]', 'Term[14]': 'March 4, 1929–March 4, 1933', 'Party[b][15]': '', 'Election': 'Republican', 'Vice President[16]': '1928'}, {'No.[a]': '32', 'Portrait': '', 'Name(Birth–Death)': 'Franklin D. Roosevelt(1882–1945)[59]', 'Term[14]': 'March 4, 1933–April 12, 1945[e]', 'Party[b][15]': '', 'Election': 'Democratic', 'Vice President[16]': '1932\\n\\n1936\\n\\n\\n1940\\n\\n\\n1944'}, {'No.[a]': '33', 'Portrait': '', 'Name(Birth–Death)': 'Harry S. Truman(1884–1972)[60]', 'Term[14]': 'April 12, 1945[r]–January 20, 1953', 'Party[b][15]': '', 'Election': 'Democratic', 'Vice President[16]': '–\\n\\n1948'}, {'No.[a]': '34', 'Portrait': '', 'Name(Birth–Death)': 'Dwight D. Eisenhower(1890–1969)[62]', 'Term[14]': 'January 20, 1953–January 20, 1961', 'Party[b][15]': '', 'Election': 'Republican', 'Vice President[16]': '1952\\n\\n1956'}, {'No.[a]': '35', 'Portrait': '', 'Name(Birth–Death)': 'John F. Kennedy(1917–1963)[63]', 'Term[14]': 'January 20, 1961–November 22, 1963[e]', 'Party[b][15]': '', 'Election': 'Democratic', 'Vice President[16]': '1960'}, {'No.[a]': '36', 'Portrait': '', 'Name(Birth–Death)': 'Lyndon B. Johnson(1908–1973)[64]', 'Term[14]': 'November 22, 1963[s]–January 20, 1969', 'Party[b][15]': '', 'Election': 'Democratic', 'Vice President[16]': '–\\n\\n1964'}, {'No.[a]': '37', 'Portrait': '', 'Name(Birth–Death)': 'Richard Nixon(1913–1994)[66]', 'Term[14]': 'January 20, 1969–August 9, 1974[h]', 'Party[b][15]': '', 'Election': 'Republican', 'Vice President[16]': '1968\\n\\n1972'}, {'No.[a]': '38', 'Portrait': '', 'Name(Birth–Death)': 'Gerald Ford(1913–2006)[67]', 'Term[14]': 'August 9, 1974[u]–January 20, 1977', 'Party[b][15]': '', 'Election': 'Republican', 'Vice President[16]': '–'}, {'No.[a]': '39', 'Portrait': '', 'Name(Birth–Death)': 'Jimmy Carter(b. 1924)[68]', 'Term[14]': 'January 20, 1977–January 20, 1981', 'Party[b][15]': '', 'Election': 'Democratic', 'Vice President[16]': '1976'}, {'No.[a]': '40', 'Portrait': '', 'Name(Birth–Death)': 'Ronald Reagan(1911–2004)[69]', 'Term[14]': 'January 20, 1981–January 20, 1989', 'Party[b][15]': '', 'Election': 'Republican', 'Vice President[16]': '1980\\n\\n1984'}, {'No.[a]': '41', 'Portrait': '', 'Name(Birth–Death)': 'George H. W. Bush(1924–2018)[70]', 'Term[14]': 'January 20, 1989–January 20, 1993', 'Party[b][15]': '', 'Election': 'Republican', 'Vice President[16]': '1988'}, {'No.[a]': '42', 'Portrait': '', 'Name(Birth–Death)': 'Bill Clinton(b. 1946)[71]', 'Term[14]': 'January 20, 1993–January 20, 2001', 'Party[b][15]': '', 'Election': 'Democratic', 'Vice President[16]': '1992\\n\\n1996'}, {'No.[a]': '43', 'Portrait': '', 'Name(Birth–Death)': 'George W. Bush(b. 1946)[72]', 'Term[14]': 'January 20, 2001–January 20, 2009', 'Party[b][15]': '', 'Election': 'Republican', 'Vice President[16]': '2000\\n\\n2004'}, {'No.[a]': '44', 'Portrait': '', 'Name(Birth–Death)': 'Barack Obama(b. 1961)[73]', 'Term[14]': 'January 20, 2009–January 20, 2017', 'Party[b][15]': '', 'Election': 'Democratic', 'Vice President[16]': '2008\\n\\n2012'}, {'No.[a]': '45', 'Portrait': '', 'Name(Birth–Death)': 'Donald Trump(b. 1946)[74]', 'Term[14]': 'January 20, 2017–January 20, 2021', 'Party[b][15]': '', 'Election': 'Republican', 'Vice President[16]': '2016'}, {'No.[a]': '46', 'Portrait': '', 'Name(Birth–Death)': 'Joe Biden(b. 1942)[6]', 'Term[14]': 'January 20, 2021–Incumbent', 'Party[b][15]': '', 'Election': 'Democratic', 'Vice President[16]': '2020'}]\n"
     ]
    }
   ],
   "source": [
    "\n",
    "# Specify the filename\n",
    "filename = 'presidents_data.json'\n",
    "\n",
    "# Open and read the JSON file\n",
    "with open(filename, 'r') as json_file:\n",
    "    data = json.load(json_file)\n",
    "\n",
    "\n",
    "# print the data\n",
    "print(data)\n"
   ]
  }
 ],
 "metadata": {
  "kernelspec": {
   "display_name": "base",
   "language": "python",
   "name": "python3"
  },
  "language_info": {
   "codemirror_mode": {
    "name": "ipython",
    "version": 3
   },
   "file_extension": ".py",
   "mimetype": "text/x-python",
   "name": "python",
   "nbconvert_exporter": "python",
   "pygments_lexer": "ipython3",
   "version": "3.9.18"
  }
 },
 "nbformat": 4,
 "nbformat_minor": 2
}
