{
 "cells": [
  {
   "cell_type": "markdown",
   "metadata": {},
   "source": [
    "# Task 1"
   ]
  },
  {
   "cell_type": "code",
   "execution_count": 29,
   "metadata": {},
   "outputs": [
    {
     "name": "stdout",
     "output_type": "stream",
     "text": [
      "Thirty Days Of Python\n"
     ]
    }
   ],
   "source": [
    "# concatenate this word\n",
    "concatenate = \"Thirty\" + \" \" + \"Days\" + \" \" +\"Of\" + \" \" + \"Python\"\n",
    "# print result\n",
    "print(concatenate)"
   ]
  },
  {
   "cell_type": "markdown",
   "metadata": {},
   "source": [
    "# Task 2"
   ]
  },
  {
   "cell_type": "code",
   "execution_count": 2,
   "metadata": {},
   "outputs": [
    {
     "name": "stdout",
     "output_type": "stream",
     "text": [
      "Coding For All\n"
     ]
    }
   ],
   "source": [
    "string = \"Coding\" + \" \" + \"For\" + \" \" + \"All\"\n",
    "# print result\n",
    "print(string)"
   ]
  },
  {
   "cell_type": "markdown",
   "metadata": {},
   "source": [
    "# Task 3"
   ]
  },
  {
   "cell_type": "code",
   "execution_count": 3,
   "metadata": {},
   "outputs": [],
   "source": [
    "# declare a variable named company\n",
    "company = \"Coding For All\""
   ]
  },
  {
   "cell_type": "markdown",
   "metadata": {},
   "source": [
    "# Task 4"
   ]
  },
  {
   "cell_type": "code",
   "execution_count": 4,
   "metadata": {},
   "outputs": [
    {
     "name": "stdout",
     "output_type": "stream",
     "text": [
      "Coding For All\n"
     ]
    }
   ],
   "source": [
    "# print the varaiable comapany\n",
    "print(company)"
   ]
  },
  {
   "cell_type": "markdown",
   "metadata": {},
   "source": [
    "# Task 5"
   ]
  },
  {
   "cell_type": "code",
   "execution_count": 5,
   "metadata": {},
   "outputs": [
    {
     "name": "stdout",
     "output_type": "stream",
     "text": [
      "14\n"
     ]
    }
   ],
   "source": [
    "# get the length of the string\n",
    "length_of_company = len(company)\n",
    "# print the length\n",
    "print(length_of_company)"
   ]
  },
  {
   "cell_type": "markdown",
   "metadata": {},
   "source": [
    "# Task 7"
   ]
  },
  {
   "cell_type": "code",
   "execution_count": 6,
   "metadata": {},
   "outputs": [
    {
     "name": "stdout",
     "output_type": "stream",
     "text": [
      "CODING FOR ALL\n"
     ]
    }
   ],
   "source": [
    "# change all characters to uppercase\n",
    "upper = company.upper()\n",
    "# print result\n",
    "print(upper)"
   ]
  },
  {
   "cell_type": "markdown",
   "metadata": {},
   "source": [
    "# Task 8"
   ]
  },
  {
   "cell_type": "code",
   "execution_count": 7,
   "metadata": {},
   "outputs": [
    {
     "name": "stdout",
     "output_type": "stream",
     "text": [
      "coding for all\n"
     ]
    }
   ],
   "source": [
    "# change all characters to lowercase\n",
    "lower = company.lower()\n",
    "# print result\n",
    "print(lower)"
   ]
  },
  {
   "cell_type": "markdown",
   "metadata": {},
   "source": [
    "# Task 9"
   ]
  },
  {
   "cell_type": "code",
   "execution_count": 8,
   "metadata": {},
   "outputs": [
    {
     "name": "stdout",
     "output_type": "stream",
     "text": [
      "Capitalized 'company': Coding for all\n",
      "Tiltled 'company': Coding For All\n",
      "Swapped 'company': cODING fOR aLL\n"
     ]
    }
   ],
   "source": [
    "# capitalize the strings \n",
    "capitalized = company.capitalize()\n",
    "# title the strings \n",
    "titled = company.title()\n",
    "#swapped the strings \n",
    "swappped = company.swapcase()\n",
    "#print the result \n",
    "print(\"Capitalized 'company':\", capitalized)\n",
    "print(\"Tiltled 'company':\", titled)\n",
    "print(\"Swapped 'company':\", swappped)\n",
    "\n"
   ]
  },
  {
   "cell_type": "markdown",
   "metadata": {},
   "source": [
    "# Task 10"
   ]
  },
  {
   "cell_type": "code",
   "execution_count": 9,
   "metadata": {},
   "outputs": [
    {
     "name": "stdout",
     "output_type": "stream",
     "text": [
      "First word: Coding\n"
     ]
    }
   ],
   "source": [
    "# Assigning variable\n",
    "company = \"Coding For All\"\n",
    "#cut the first word\n",
    "slice_the_first_word = company.split()[0]\n",
    "# print result \n",
    "print(\"First word:\", slice_the_first_word)\n",
    "\n"
   ]
  },
  {
   "cell_type": "markdown",
   "metadata": {},
   "source": [
    "# Task 11"
   ]
  },
  {
   "cell_type": "code",
   "execution_count": 10,
   "metadata": {},
   "outputs": [
    {
     "name": "stdout",
     "output_type": "stream",
     "text": [
      "0\n"
     ]
    }
   ],
   "source": [
    "string_1 = \"Coding\"\n",
    "# index check\n",
    "index_check = company.index(string_1)\n",
    "#print result \n",
    "print(index_check)\n"
   ]
  },
  {
   "cell_type": "markdown",
   "metadata": {},
   "source": [
    "# Task 12"
   ]
  },
  {
   "cell_type": "code",
   "execution_count": 11,
   "metadata": {},
   "outputs": [
    {
     "name": "stdout",
     "output_type": "stream",
     "text": [
      "Python For All\n"
     ]
    }
   ],
   "source": [
    "# replace coding in the company variable(coding for all)\n",
    "New_company = company.replace(\"Coding\", \"Python\")\n",
    "print(New_company)"
   ]
  },
  {
   "cell_type": "markdown",
   "metadata": {},
   "source": [
    "# Task 13"
   ]
  },
  {
   "cell_type": "code",
   "execution_count": 12,
   "metadata": {},
   "outputs": [
    {
     "name": "stdout",
     "output_type": "stream",
     "text": [
      "Python for All\n"
     ]
    }
   ],
   "source": [
    "# assign variable \n",
    "original_text = \"Python for Everyone\"\n",
    "New_text = original_text.replace(\"Everyone\", \"All\")\n",
    "# print result\n",
    "print(New_text)"
   ]
  },
  {
   "cell_type": "markdown",
   "metadata": {},
   "source": [
    "# Task 14"
   ]
  },
  {
   "cell_type": "code",
   "execution_count": 13,
   "metadata": {},
   "outputs": [
    {
     "name": "stdout",
     "output_type": "stream",
     "text": [
      "['Coding', 'For', 'All']\n"
     ]
    }
   ],
   "source": [
    "# split result using space as the seperator \n",
    "split_company = company.split(\" \")\n",
    "# print result\n",
    "print (split_company)"
   ]
  },
  {
   "cell_type": "markdown",
   "metadata": {},
   "source": [
    "# Task 15"
   ]
  },
  {
   "cell_type": "code",
   "execution_count": 14,
   "metadata": {},
   "outputs": [
    {
     "name": "stdout",
     "output_type": "stream",
     "text": [
      "['Facebook', ' Goggle', ' Microsoft', ' Apple', ' IBM', ' Amazon']\n"
     ]
    }
   ],
   "source": [
    "companies = \"Facebook, Goggle, Microsoft, Apple, IBM, Amazon\"\n",
    "# split the strings at comma\n",
    "company_list = companies.split(\",\")\n",
    "# print result\n",
    "print(company_list)\n"
   ]
  },
  {
   "cell_type": "markdown",
   "metadata": {},
   "source": [
    "# Task 16"
   ]
  },
  {
   "cell_type": "code",
   "execution_count": 15,
   "metadata": {},
   "outputs": [
    {
     "name": "stdout",
     "output_type": "stream",
     "text": [
      "C\n"
     ]
    }
   ],
   "source": [
    "# check the index 0 in the comapny variable(Coding For All) \n",
    "index_0 = company[0]\n",
    "# print result \n",
    "print (index_0)"
   ]
  },
  {
   "cell_type": "markdown",
   "metadata": {},
   "source": [
    "# Task 17"
   ]
  },
  {
   "cell_type": "code",
   "execution_count": 16,
   "metadata": {},
   "outputs": [
    {
     "name": "stdout",
     "output_type": "stream",
     "text": [
      "l\n"
     ]
    }
   ],
   "source": [
    "# check the last index in the company(Coding For All) \n",
    "last_index = company[-1]\n",
    "# print result \n",
    "print(last_index)"
   ]
  },
  {
   "cell_type": "markdown",
   "metadata": {},
   "source": [
    "# Task 18"
   ]
  },
  {
   "cell_type": "code",
   "execution_count": 68,
   "metadata": {},
   "outputs": [
    {
     "name": "stdout",
     "output_type": "stream",
     "text": [
      "Length of the stripped string: 12\n",
      "l\n"
     ]
    }
   ],
   "source": [
    "company = \"Coding For All\"\n",
    "\n",
    "# Remove whitespace from the string\n",
    "stripped_company = company.replace(\" \", \"\")\n",
    "# Print the length of the stripped string\n",
    "print(\"Length of the stripped string:\", len(stripped_company))\n",
    "# check character at index 10 in the variable stripped_company(Coding For All)\n",
    "index_10 = stripped_company[10]\n",
    "# print result \n",
    "print(index_10)\n"
   ]
  },
  {
   "cell_type": "markdown",
   "metadata": {},
   "source": [
    "# Task 19"
   ]
  },
  {
   "cell_type": "code",
   "execution_count": 70,
   "metadata": {},
   "outputs": [
    {
     "name": "stdout",
     "output_type": "stream",
     "text": [
      "PFE\n"
     ]
    }
   ],
   "source": [
    "# assign variable \n",
    "original_text = \"Python FOr Everyone\"\n",
    "# create acronym/ Abbreviation\n",
    "acronym = ''.join(word[0] for word in original_text.split())\n",
    "# print the result\n",
    "print(acronym) \n",
    "\n"
   ]
  },
  {
   "cell_type": "markdown",
   "metadata": {},
   "source": [
    "# Task 20"
   ]
  },
  {
   "cell_type": "code",
   "execution_count": 71,
   "metadata": {},
   "outputs": [
    {
     "name": "stdout",
     "output_type": "stream",
     "text": [
      "CFA\n"
     ]
    }
   ],
   "source": [
    "# assign variable \n",
    "company = \"Coding For All\"\n",
    "# create acronym/ Abbreviation\n",
    "company_acronmy = ''.join(word[0] for word in company.split())\n",
    "# print the result\n",
    "print(company_acronmy) \n",
    "\n"
   ]
  },
  {
   "cell_type": "markdown",
   "metadata": {},
   "source": [
    "# Task 21"
   ]
  },
  {
   "cell_type": "code",
   "execution_count": 73,
   "metadata": {},
   "outputs": [
    {
     "name": "stdout",
     "output_type": "stream",
     "text": [
      "0\n"
     ]
    }
   ],
   "source": [
    "# find the index of the first  occurence of 'C'\n",
    "position_of_c = company.index('C')\n",
    "#print the result\n",
    "print(position_of_c) "
   ]
  },
  {
   "cell_type": "markdown",
   "metadata": {},
   "source": [
    "# Task 22"
   ]
  },
  {
   "cell_type": "code",
   "execution_count": 74,
   "metadata": {},
   "outputs": [
    {
     "name": "stdout",
     "output_type": "stream",
     "text": [
      "7\n"
     ]
    }
   ],
   "source": [
    "# find the index of the first  occurence of 'F'\n",
    "position_of_f = company.index('F')\n",
    "#print the result\n",
    "print(position_of_f) "
   ]
  },
  {
   "cell_type": "markdown",
   "metadata": {},
   "source": [
    "# Task 23"
   ]
  },
  {
   "cell_type": "code",
   "execution_count": 5,
   "metadata": {},
   "outputs": [
    {
     "name": "stdout",
     "output_type": "stream",
     "text": [
      "18\n"
     ]
    }
   ],
   "source": [
    "# assign variable \n",
    "text = \"Coding For All Peole\"\n",
    "# find the occurence of the last l\n",
    "lst_occurence = text.rfind(\"l\")\n",
    "# print result \n",
    "print(lst_occurence)"
   ]
  },
  {
   "cell_type": "markdown",
   "metadata": {},
   "source": [
    "# Task 24"
   ]
  },
  {
   "cell_type": "code",
   "execution_count": 9,
   "metadata": {},
   "outputs": [
    {
     "name": "stdout",
     "output_type": "stream",
     "text": [
      "31\n"
     ]
    }
   ],
   "source": [
    "# assign variable \n",
    "sentence = \"You cannot end a sentence with because because because is a conjunction\"\n",
    "# find the position of the first occurence of the word because \n",
    "position = sentence.index(\"because\")\n",
    "# print result \n",
    "print(position)"
   ]
  },
  {
   "cell_type": "markdown",
   "metadata": {},
   "source": [
    "# Task 25"
   ]
  },
  {
   "cell_type": "code",
   "execution_count": 10,
   "metadata": {},
   "outputs": [
    {
     "name": "stdout",
     "output_type": "stream",
     "text": [
      "47\n"
     ]
    }
   ],
   "source": [
    "# assign variable \n",
    "sentence = \"You cannot end a sentence with because because because is a conjunction\"\n",
    "# find the position of the first occurence of the word because \n",
    "position_of_lst_because = sentence.rindex(\"because\")\n",
    "# print result \n",
    "print(position_of_lst_because)"
   ]
  },
  {
   "cell_type": "markdown",
   "metadata": {},
   "source": [
    "# Task 26"
   ]
  },
  {
   "cell_type": "code",
   "execution_count": 12,
   "metadata": {},
   "outputs": [
    {
     "name": "stdout",
     "output_type": "stream",
     "text": [
      "because because because\n"
     ]
    }
   ],
   "source": [
    "# slice out because because because \n",
    "slice = sentence[31:54]\n",
    "print(slice)"
   ]
  },
  {
   "cell_type": "markdown",
   "metadata": {},
   "source": [
    "# Task 27"
   ]
  },
  {
   "cell_type": "code",
   "execution_count": 14,
   "metadata": {},
   "outputs": [
    {
     "name": "stdout",
     "output_type": "stream",
     "text": [
      "31\n"
     ]
    }
   ],
   "source": [
    "# assign variable \n",
    "sentence = \"You cannot end a sentence with because because because is a conjunction\"\n",
    "# find the position of the first occurence of the word because \n",
    "position = sentence.find(\"because\")\n",
    "# print result \n",
    "print(position)"
   ]
  },
  {
   "cell_type": "markdown",
   "metadata": {},
   "source": [
    "# Task 28"
   ]
  },
  {
   "cell_type": "code",
   "execution_count": 15,
   "metadata": {},
   "outputs": [
    {
     "name": "stdout",
     "output_type": "stream",
     "text": [
      "because because because\n"
     ]
    }
   ],
   "source": [
    "# slice out because because because \n",
    "slice = sentence[31:54]\n",
    "print(slice)"
   ]
  },
  {
   "cell_type": "markdown",
   "metadata": {},
   "source": [
    "\n",
    "Does coding for all start with a substring coding\n"
   ]
  },
  {
   "cell_type": "code",
   "execution_count": 16,
   "metadata": {},
   "outputs": [
    {
     "name": "stdout",
     "output_type": "stream",
     "text": [
      "True\n"
     ]
    }
   ],
   "source": [
    "text_1 = \"Coding For All\"\n",
    "check = text_1.count(\"Coding\", 0, len(\"Coding\")) > 0\n",
    "print(check)\n"
   ]
  },
  {
   "cell_type": "markdown",
   "metadata": {},
   "source": [
    " # Task 29\n",
    " Does coding for all end with a substring coding\n"
   ]
  },
  {
   "cell_type": "code",
   "execution_count": 17,
   "metadata": {},
   "outputs": [
    {
     "name": "stdout",
     "output_type": "stream",
     "text": [
      "False\n"
     ]
    }
   ],
   "source": [
    "check_end = text_1.endswith(\"coding\")\n",
    "print(check_end)\n"
   ]
  },
  {
   "cell_type": "markdown",
   "metadata": {},
   "source": [
    " # Task 30\n",
    " Remove trailing spaces\n"
   ]
  },
  {
   "cell_type": "code",
   "execution_count": 20,
   "metadata": {},
   "outputs": [
    {
     "name": "stdout",
     "output_type": "stream",
     "text": [
      "Coding For All\n"
     ]
    }
   ],
   "source": [
    "# assign variable to the text\n",
    "unclean_text = \" Coding For All     \"\n",
    "# remove trailing spaces \n",
    "clean = unclean_text.strip()\n",
    "# get result \n",
    "print(clean)"
   ]
  },
  {
   "cell_type": "markdown",
   "metadata": {},
   "source": [
    " # Task 31\n",
    " check a valid identifier \n"
   ]
  },
  {
   "cell_type": "code",
   "execution_count": 21,
   "metadata": {},
   "outputs": [
    {
     "name": "stdout",
     "output_type": "stream",
     "text": [
      "False\n",
      "True\n"
     ]
    }
   ],
   "source": [
    "variable_1 = \"30DaysOfPython\"\n",
    "\n",
    "result_1= variable_1.isidentifier()\n",
    "# get result\n",
    "print(result_1)\n",
    "variable_2 = \"thirty_days_of_python\"\n",
    "\n",
    "result_2 = variable_2.isidentifier()\n",
    "# get result\n",
    "print(result_2)"
   ]
  },
  {
   "cell_type": "markdown",
   "metadata": {},
   "source": [
    " # Task 32\n",
    "join these python libraries using hash\n"
   ]
  },
  {
   "cell_type": "code",
   "execution_count": 22,
   "metadata": {},
   "outputs": [
    {
     "name": "stdout",
     "output_type": "stream",
     "text": [
      "Django # Flask # Bottle # Pyramid # Falcon\n"
     ]
    }
   ],
   "source": [
    "libraries = ['Django', 'Flask', 'Bottle', 'Pyramid', 'Falcon']\n",
    "joined_string = ' # '.join(libraries)\n",
    "print(joined_string)"
   ]
  },
  {
   "cell_type": "markdown",
   "metadata": {},
   "source": [
    " # Task 33\n",
    " use esca[e sequence to seperate sentences]"
   ]
  },
  {
   "cell_type": "code",
   "execution_count": 24,
   "metadata": {},
   "outputs": [
    {
     "name": "stdout",
     "output_type": "stream",
     "text": [
      " I am enjoying this challenge. \n",
      "I just wonder what is next.\n"
     ]
    }
   ],
   "source": [
    "sentences = \" I am enjoying this challenge. \\nI just wonder what is next.\"\n",
    "print(sentences)"
   ]
  },
  {
   "cell_type": "markdown",
   "metadata": {},
   "source": [
    " # Task 34\n",
    " use the escape sequece to write the following lines\n"
   ]
  },
  {
   "cell_type": "code",
   "execution_count": 25,
   "metadata": {},
   "outputs": [
    {
     "name": "stdout",
     "output_type": "stream",
     "text": [
      "Name\tAge\tCountry\tcity\n",
      "Asabeneh\t250\tFinland\tHelsinki\n"
     ]
    }
   ],
   "source": [
    "data = \"Name\\tAge\\tCountry\\tcity\\nAsabeneh\\t250\\tFinland\\tHelsinki\"\n",
    "print(data)"
   ]
  },
  {
   "cell_type": "markdown",
   "metadata": {},
   "source": [
    "# Task 35\n",
    "use string formating method\n"
   ]
  },
  {
   "cell_type": "code",
   "execution_count": 27,
   "metadata": {},
   "outputs": [
    {
     "name": "stdout",
     "output_type": "stream",
     "text": [
      " The area of a circle with radius 10 is 314 square meters.\n"
     ]
    }
   ],
   "source": [
    "radius =10\n",
    "area= int(3.14 * radius ** 2)\n",
    "result = f\" The area of a circle with radius {radius} is {area} square meters.\"\n",
    "print(result)\n"
   ]
  },
  {
   "cell_type": "markdown",
   "metadata": {},
   "source": [
    "# Task 36\n",
    "use string formating method\n"
   ]
  },
  {
   "cell_type": "code",
   "execution_count": 28,
   "metadata": {},
   "outputs": [
    {
     "name": "stdout",
     "output_type": "stream",
     "text": [
      "8 + 6 = 14\n",
      "8 - 6 = 2\n",
      "8 * 6 = 48\n",
      "8 / 6 =  1.33\n",
      "8 % 6 = 2\n",
      "8 // 6 = 1\n",
      "8 ** 6 = 262144\n"
     ]
    }
   ],
   "source": [
    "a, b = 8, 6\n",
    "add = f\"{a} + {b} = {a + b}\"\n",
    "sub = f\"{a} - {b} = {a - b}\"\n",
    "mul = f\"{a} * {b} = {a * b}\"\n",
    "div = f\"{a} / {b} = {a / b: .2f}\"\n",
    "modulo = f\"{a} % {b} = {a % b}\"\n",
    "floor_div = f\"{a} // {b} = {a // b}\"\n",
    "exp = f\"{a} ** {b} = {a ** b}\"\n",
    "# display result \n",
    "print(add)\n",
    "print(sub)\n",
    "print(mul)\n",
    "print(div)\n",
    "print(modulo)\n",
    "print(floor_div)\n",
    "print(exp)"
   ]
  }
 ],
 "metadata": {
  "kernelspec": {
   "display_name": "Python 3 (ipykernel)",
   "language": "python",
   "name": "python3"
  },
  "language_info": {
   "codemirror_mode": {
    "name": "ipython",
    "version": 3
   },
   "file_extension": ".py",
   "mimetype": "text/x-python",
   "name": "python",
   "nbconvert_exporter": "python",
   "pygments_lexer": "ipython3",
   "version": "3.8.18"
  }
 },
 "nbformat": 4,
 "nbformat_minor": 2
}
