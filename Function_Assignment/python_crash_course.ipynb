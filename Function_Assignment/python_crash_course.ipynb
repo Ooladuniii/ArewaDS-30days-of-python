{
 "cells": [
  {
   "cell_type": "markdown",
   "metadata": {},
   "source": [
    "8-1. Message: Write a function called display ressage() that prins one sen tence telling everyone what you are leaming about in this chapter. Call the function, and make sure the message displays correctly.\n"
   ]
  },
  {
   "cell_type": "code",
   "execution_count": 1,
   "metadata": {},
   "outputs": [
    {
     "name": "stdout",
     "output_type": "stream",
     "text": [
      "In this chapter, I am learning about functions.\n"
     ]
    }
   ],
   "source": [
    "# write a function\n",
    "def display_message():\n",
    "    print(\"In this chapter, I am learning about functions.\")\n",
    "# call the function\n",
    "display_message()\n"
   ]
  },
  {
   "cell_type": "markdown",
   "metadata": {},
   "source": [
    "8-2. Favorite Book: Write a function called favorite bonk() that accepts one porometer, title. The function should print a message, such as One of my favorite books is Alice in Wonderland. Call the function, making sure to include a book title as an argument in the function call. Let's write a code to do this task one after the other\n",
    "\n"
   ]
  },
  {
   "cell_type": "code",
   "execution_count": 2,
   "metadata": {},
   "outputs": [
    {
     "name": "stdout",
     "output_type": "stream",
     "text": [
      "One of my favorite books is Alice in Wonderland.\n"
     ]
    }
   ],
   "source": [
    "# write a function about my favourite book\n",
    "def favorite_book(title):\n",
    "    print (f\"One of my favorite books is {title}.\")\n",
    "# call the function with a book title\n",
    "favorite_book(\"Alice in Wonderland\") "
   ]
  },
  {
   "cell_type": "markdown",
   "metadata": {},
   "source": [
    "8-3. T-Shirt: Write a function called make_shirt() that accepts o size and the text of a message that should be printed on the shirt. The function should print a sentence summarizing the size of the shirt and the message printed on it. Call the function once using positional arguments to make a shirt. Call the function a second time using keyword arguments"
   ]
  },
  {
   "cell_type": "code",
   "execution_count": 2,
   "metadata": {},
   "outputs": [
    {
     "name": "stdout",
     "output_type": "stream",
     "text": [
      "Shirt size: Medium, Message: Hello World\n",
      "Shirt size: Large, Message: Python Rocks\n"
     ]
    }
   ],
   "source": [
    "# 8-3. T-Shirt\n",
    "def make_shirt(size, message):\n",
    "    print(f\"Shirt size: {size}, Message: {message}\")\n",
    "\n",
    "# Call the function with positional arguments\n",
    "make_shirt(\"Medium\", \"Hello World\")\n",
    "\n",
    "# Call the function with keyword arguments\n",
    "make_shirt(size=\"Large\", message=\"Python Rocks\")\n"
   ]
  },
  {
   "cell_type": "markdown",
   "metadata": {},
   "source": [
    "8-4. Large Shirts: Modify the make_shirt() function so that shirts are large by default with a message that reads / love Python. Make a large shirt and a medium shirt with the default message, and a shirt of any size with a different message."
   ]
  },
  {
   "cell_type": "code",
   "execution_count": 3,
   "metadata": {},
   "outputs": [
    {
     "name": "stdout",
     "output_type": "stream",
     "text": [
      "Shirt size: Large, Message: I love Python\n",
      "Shirt size: Medium, Message: I love Python\n",
      "Shirt size: Small, Message: Programming is fun\n"
     ]
    }
   ],
   "source": [
    "# 8-4. Large Shirts\n",
    "def make_shirt(size=\"Large\", message=\"I love Python\"):\n",
    "    print(f\"Shirt size: {size}, Message: {message}\")\n",
    "\n",
    "# Make a large shirt and a medium shirt with the default message\n",
    "make_shirt()\n",
    "make_shirt(\"Medium\")\n",
    "\n",
    "# Make a shirt of any size with a different message\n",
    "make_shirt(\"Small\", \"Programming is fun\")\n"
   ]
  },
  {
   "cell_type": "markdown",
   "metadata": {},
   "source": [
    "8-5. Cities: Write a function called describe city() that accepts the name of a city and its country. The function should print a simple sentence, such as Reykjavik is in Iceland. Give the parameter for the country a default value. Call your function for three different cities, at least one of which is not in the default country. Let's do the rask one after the other "
   ]
  },
  {
   "cell_type": "code",
   "execution_count": 7,
   "metadata": {},
   "outputs": [
    {
     "name": "stdout",
     "output_type": "stream",
     "text": [
      "Reykjavik is in Iceland.\n",
      "Paris is in France.\n",
      "Lagos is in Default Country.\n"
     ]
    }
   ],
   "source": [
    "# 8-5. Cities\n",
    "def describe_city(city, country=\"Default Country\"):\n",
    "    print(f\"{city} is in {country}.\")\n",
    "\n",
    "# Call the function for three different cities\n",
    "describe_city(\"Reykjavik\", \"Iceland\")\n",
    "describe_city(\"Paris\", \"France\")\n",
    "describe_city(\"Lagos\")"
   ]
  },
  {
   "cell_type": "markdown",
   "metadata": {},
   "source": [
    "8-6. City Names: Write a function called city country() that takes in the name of a city and its country. The function should return a string formatted like this\n",
    "\"Santiago, Chile\"\n",
    "Call your function with at least three city-country pairs, and print the values that are returned."
   ]
  },
  {
   "cell_type": "code",
   "execution_count": 6,
   "metadata": {},
   "outputs": [
    {
     "name": "stdout",
     "output_type": "stream",
     "text": [
      "Santiago, Chile\n",
      "Lagos, Nigeria\n",
      "Paris, France\n"
     ]
    }
   ],
   "source": [
    "# 8-6. City Names\n",
    "def city_country(city, country):\n",
    "    return f\"{city}, {country}\"\n",
    "\n",
    "# Call the function with three city-country pairs\n",
    "print(city_country(\"Santiago\", \"Chile\"))\n",
    "print(city_country(\"Lagos\", \"Nigeria\"))\n",
    "print(city_country(\"Paris\", \"France\"))\n"
   ]
  },
  {
   "cell_type": "markdown",
   "metadata": {},
   "source": [
    "8-7. Album: Write a function called make_album() that builds a dictionary describing a music album. The function should take in an artist name and an album title, and it should return a dictionary containing these two pieces of Information. Use the function to make three dictionaries representing different albums. Print each return value to show that the dictionaries are storing the album information correctly.\n",
    "\n",
    "Use Kone to add an optional parameter to make album() that allows you to store the number of sangs on an album. If the calling line includes a value for the number of songs, add that value to the album's dictionary. Make at least one new function call that includes the number of songs on an album.\n"
   ]
  },
  {
   "cell_type": "code",
   "execution_count": 8,
   "metadata": {},
   "outputs": [
    {
     "name": "stdout",
     "output_type": "stream",
     "text": [
      "Album 1: {'artist': 'John Legend', 'title': 'Love in the Future', 'songs': 16}\n",
      "Album 2: {'artist': 'Davido', 'title': ' Timeless', 'songs': 12}\n",
      "Album 3: {'artist': 'Beyoncé', 'title': 'Lemonade'}\n"
     ]
    }
   ],
   "source": [
    "# 8-7. Album: Creating Dictionaries for Music Albums with Optional Parameter\n",
    "def make_album(artist, title, songs=None):\n",
    "    \"\"\"\n",
    "    Create a dictionary describing a music album.\n",
    "\n",
    "    Parameters:\n",
    "    - artist (str): The name of the artist.\n",
    "    - title (str): The title of the album.\n",
    "    - songs (int, optional): The number of songs on the album. Default is None.\n",
    "\n",
    "    Returns:\n",
    "    dict: A dictionary containing the artist, title, and optionally, the number of songs.\n",
    "    \"\"\"\n",
    "    album_info = {\"artist\": artist, \"title\": title}\n",
    "    if songs is not None:\n",
    "        album_info[\"songs\"] = songs\n",
    "    return album_info\n",
    "\n",
    "# Use the function to make three dictionaries representing different albums\n",
    "album1 = make_album(\"John Legend\", \"Love in the Future\", 16)\n",
    "album2 = make_album(\"Davido\", \" Timeless\", 12)\n",
    "album3 = make_album(\"Beyoncé\", \"Lemonade\")\n",
    "\n",
    "# Print each return value to show that the dictionaries store the album information correctly\n",
    "print(\"Album 1:\", album1)\n",
    "print(\"Album 2:\", album2)\n",
    "print(\"Album 3:\", album3)\n"
   ]
  },
  {
   "cell_type": "markdown",
   "metadata": {},
   "source": [
    "8-8. User Albums: Start with your program from Exercise 8.7. Write a while loop that allows users to enter an album's artist and title. Once you have that information, call take album() with the user's input and print the dictionary that's created. Be sure to include a quit value in the while loop. Do the task one after the other \n",
    "\n"
   ]
  },
  {
   "cell_type": "code",
   "execution_count": 9,
   "metadata": {},
   "outputs": [
    {
     "name": "stdout",
     "output_type": "stream",
     "text": [
      "{'artist': 'Davido', 'title': 'Timeless'}\n",
      "{'artist': 'Beyonce', 'title': 'Lemonade'}\n",
      "{'artist': 'John Legend', 'title': 'Love in the future'}\n"
     ]
    }
   ],
   "source": [
    "# 8-8. User Albums\n",
    "def user_albums():\n",
    "    while True:\n",
    "        artist = input(\"Enter the artist's name (type 'quit' to exit): \")\n",
    "        if artist.lower() == 'quit':\n",
    "            break\n",
    "        title = input(\"Enter the album title: \")\n",
    "        album_info = make_album(artist, title)\n",
    "        print(album_info)\n",
    "\n",
    "# Call the function to allow users to enter album information\n",
    "user_albums()"
   ]
  },
  {
   "cell_type": "markdown",
   "metadata": {},
   "source": [
    "8-9, Messages: Make a list containing a series of short text messages. Pass the list to a function called show messages(), which prints each lext message.\n"
   ]
  },
  {
   "cell_type": "code",
   "execution_count": 10,
   "metadata": {},
   "outputs": [
    {
     "name": "stdout",
     "output_type": "stream",
     "text": [
      "Hello!\n",
      "How are you?\n",
      "Python is fun!\n",
      "Coding is exciting!\n"
     ]
    }
   ],
   "source": [
    "# 8-9. Messages\n",
    "def show_messages(messages):\n",
    "    \"\"\"Print each text message from the list.\"\"\"\n",
    "    for message in messages:\n",
    "        print(message)\n",
    "\n",
    "# Make a list of short text messages\n",
    "messages_list = [\"Hello!\", \"How are you?\", \"Python is fun!\", \"Coding is exciting!\"]\n",
    "\n",
    "# Call the function to show messages\n",
    "show_messages(messages_list)\n"
   ]
  },
  {
   "cell_type": "markdown",
   "metadata": {},
   "source": [
    "8-10. Sending Messages: Start with a copy of your program from Exercise 8-9. Write a function called send_messages() that prints each text message and moves each message to a new list called sent aessages as it's printed. After calling the function, print both of your lists to make sure the messages were moved correctly\n"
   ]
  },
  {
   "cell_type": "code",
   "execution_count": 11,
   "metadata": {},
   "outputs": [
    {
     "name": "stdout",
     "output_type": "stream",
     "text": [
      "Sending message: Hello!\n",
      "Sending message: How are you?\n",
      "Sending message: Python is fun!\n",
      "Sending message: Coding is exciting!\n",
      "Original Messages List: ['Hello!', 'How are you?', 'Python is fun!', 'Coding is exciting!']\n",
      "Sent Messages List: ['Hello!', 'How are you?', 'Python is fun!', 'Coding is exciting!']\n"
     ]
    }
   ],
   "source": [
    "# 8-10. Sending Messages\n",
    "def send_messages(messages, sent_messages):\n",
    "    \"\"\"Print each text message, move it to sent_messages list.\"\"\"\n",
    "    while messages:\n",
    "        current_message = messages.pop(0)\n",
    "        print(\"Sending message:\", current_message)\n",
    "        sent_messages.append(current_message)\n",
    "\n",
    "# Create a new list for sent messages\n",
    "sent_messages_list = []\n",
    "\n",
    "# Call the function to send messages and move them to the sent_messages list\n",
    "send_messages(messages_list[:], sent_messages_list)\n",
    "\n",
    "# Print both lists to ensure messages were moved correctly\n",
    "print(\"Original Messages List:\", messages_list)\n",
    "print(\"Sent Messages List:\", sent_messages_list)"
   ]
  },
  {
   "cell_type": "markdown",
   "metadata": {},
   "source": [
    "8-11. Archived Messages: Start with your work from Exercise 8-10. Call the function send messages() with a copy of the lat of messages. Aher calling the function, print bath of your lists to show that the original list has retained its messages\n"
   ]
  },
  {
   "cell_type": "code",
   "execution_count": 12,
   "metadata": {},
   "outputs": [
    {
     "name": "stdout",
     "output_type": "stream",
     "text": [
      "Sent Messages List: ['Hello!', 'How are you?', 'Python is fun!', 'Coding is exciting!']\n",
      "Archived Messages List: ['Hello!', 'How are you?', 'Python is fun!', 'Coding is exciting!']\n"
     ]
    }
   ],
   "source": [
    "# 8-11. Archived Messages\n",
    "def archive_messages(messages, archived_messages):\n",
    "    \"\"\"Archive messages by copying them to another list.\"\"\"\n",
    "    archived_messages.extend(messages)\n",
    "\n",
    "# Create a new list for archived messages\n",
    "archived_messages_list = []\n",
    "\n",
    "# Call the function to archive messages\n",
    "archive_messages(sent_messages_list[:], archived_messages_list)\n",
    "\n",
    "# Print both lists to show that the original list retains its messages\n",
    "print(\"Sent Messages List:\", sent_messages_list)\n",
    "print(\"Archived Messages List:\", archived_messages_list)"
   ]
  },
  {
   "cell_type": "markdown",
   "metadata": {},
   "source": [
    "8-12. Sandwiches: Write a function that accepts a list of items a person wants on a sandwich. The function should have one parameter that collects as many items as the function call provides, and it should print a summary of the sand wich that's being ordered. Call the function three times, using a different num ber of arguments each time."
   ]
  },
  {
   "cell_type": "code",
   "execution_count": 13,
   "metadata": {},
   "outputs": [
    {
     "name": "stdout",
     "output_type": "stream",
     "text": [
      "Sandwich ingredients:\n",
      "- Ham\n",
      "- Cheese\n",
      "- Lettuce\n",
      "Enjoy your sandwich!\n",
      "Sandwich ingredients:\n",
      "- Turkey\n",
      "- Swiss\n",
      "Enjoy your sandwich!\n",
      "Sandwich ingredients:\n",
      "- Peanut Butter\n",
      "- Jelly\n",
      "Enjoy your sandwich!\n"
     ]
    }
   ],
   "source": [
    "# 8-12. Sandwiches\n",
    "def make_sandwich(*items):\n",
    "    \"\"\"Print a summary of the sandwich with the provided items.\"\"\"\n",
    "    print(\"Sandwich ingredients:\")\n",
    "    for item in items:\n",
    "        print(f\"- {item}\")\n",
    "    print(\"Enjoy your sandwich!\")\n",
    "\n",
    "# Call the function three times with different numbers of arguments\n",
    "make_sandwich(\"Ham\", \"Cheese\", \"Lettuce\")\n",
    "make_sandwich(\"Turkey\", \"Swiss\")\n",
    "make_sandwich(\"Peanut Butter\", \"Jelly\")"
   ]
  },
  {
   "cell_type": "markdown",
   "metadata": {},
   "source": [
    "8-13. User Profile: Start with a copy of user profile.py from page 149. Build a profile of yourself by calling build profile(), using your first and last names and three other key value pairs that describe you\n"
   ]
  },
  {
   "cell_type": "code",
   "execution_count": 17,
   "metadata": {},
   "outputs": [
    {
     "name": "stdout",
     "output_type": "stream",
     "text": [
      "User Profile: {'first_name': 'Olayinka', 'last_name': 'Babalola', 'age': 29, 'occupation': 'Data Scientist', 'hobby': 'Traveling', 'Email': 'olayinkamojisola94@gmail.com'}\n"
     ]
    }
   ],
   "source": [
    "# 8-13. User Profile\n",
    "def build_profile(first_name, last_name, **additional_info):\n",
    "    \"\"\"Build a user profile dictionary.\"\"\"\n",
    "    profile = {\n",
    "        \"first_name\": first_name,\n",
    "        \"last_name\": last_name,\n",
    "    }\n",
    "    profile.update(additional_info)\n",
    "    return profile\n",
    "\n",
    "# Call the function to build a user profile\n",
    "my_profile = build_profile(\"Olayinka\", \"Babalola\", age=29, occupation=\"Data Scientist\", hobby=\"Traveling\", Email=\"olayinkamojisola94@gmail.com\")\n",
    "\n",
    "# Print the user profile\n",
    "print(\"User Profile:\", my_profile)\n"
   ]
  },
  {
   "cell_type": "markdown",
   "metadata": {},
   "source": [
    "8-14. Cars: Write a function that stores information about a car in a diction ary. The function should always receive a manufacturer and a model name. should then accept on arbitrary number of keyword arguments. Call the func tion with the required information and two other name-value pairs, such as a color or an optional feature. Your function should work for a call like this one\n",
    "\n",
    "car make car('subaru', 'outback', color=\"blue\", tow package-True)\n",
    "\n",
    "Print the dictionary that's returned to make sure all the information was stored correctly."
   ]
  },
  {
   "cell_type": "code",
   "execution_count": 18,
   "metadata": {},
   "outputs": [
    {
     "name": "stdout",
     "output_type": "stream",
     "text": [
      "Car Information: {'manufacturer': 'subaru', 'model': 'outback', 'color': 'blue', 'tow_package': True}\n"
     ]
    }
   ],
   "source": [
    "# 8-14. Cars\n",
    "def car_info(manufacturer, model, **additional_info):\n",
    "    \"\"\"Store information about a car in a dictionary.\"\"\"\n",
    "    car_details = {\n",
    "        \"manufacturer\": manufacturer,\n",
    "        \"model\": model,\n",
    "    }\n",
    "    car_details.update(additional_info)\n",
    "    return car_details\n",
    "\n",
    "# Call the function with the required information and two additional name-value pairs\n",
    "car_info_1 = car_info('subaru', 'outback', color=\"blue\", tow_package=True)\n",
    "\n",
    "# Print the dictionary returned to ensure all information is stored correctly\n",
    "print(\"Car Information:\", car_info_1)"
   ]
  },
  {
   "cell_type": "markdown",
   "metadata": {},
   "source": [
    "8-15. Printing Models: Put the functions for the example printing models.py in a separate file called printing_functions py. Write an impert statement at the top of printing models, py, and modify the file to use the imported functions.\n"
   ]
  },
  {
   "cell_type": "code",
   "execution_count": 21,
   "metadata": {},
   "outputs": [
    {
     "name": "stdout",
     "output_type": "stream",
     "text": [
      "Printing model: XYZ\n"
     ]
    }
   ],
   "source": [
    "# printing_models.py\n",
    "from printing_functions import print_model\n",
    "\n",
    "model = \"XYZ\"\n",
    "print_model(model)\n"
   ]
  },
  {
   "cell_type": "markdown",
   "metadata": {},
   "source": [
    "8-16. Imports: Using a program you wrote that has one function in it, store that function in a separate file. Import the function into your main program file, and call the function using each of these approaches\n"
   ]
  },
  {
   "cell_type": "markdown",
   "metadata": {},
   "source": [
    "# Solution\n",
    "the solutionto 8.16 question is found in the y_function.py and main_program.py file in this folder"
   ]
  },
  {
   "cell_type": "markdown",
   "metadata": {},
   "source": [
    "8-17. Styling Functions: Choose any three programs you wrote for this chapter, and make sure they follow the styling guidelines described in this section.\n",
    "\n",
    "\n",
    "\n",
    "\n"
   ]
  },
  {
   "cell_type": "code",
   "execution_count": 30,
   "metadata": {},
   "outputs": [
    {
     "name": "stdout",
     "output_type": "stream",
     "text": [
      "In this chapter, I am learning about functions.\n"
     ]
    }
   ],
   "source": [
    "# write a function\n",
    "def display_message():\n",
    "    print(\"In this chapter, I am learning about functions.\")\n",
    "# call the function\n",
    "display_message()\n"
   ]
  },
  {
   "cell_type": "code",
   "execution_count": 31,
   "metadata": {},
   "outputs": [
    {
     "name": "stdout",
     "output_type": "stream",
     "text": [
      "Santiago, Chile\n",
      "Lagos, Nigeria\n",
      "Paris, France\n"
     ]
    }
   ],
   "source": [
    "# 8-6. City Names\n",
    "def city_country(city, country):\n",
    "    return f\"{city}, {country}\"\n",
    "\n",
    "# Call the function with three city-country pairs\n",
    "print(city_country(\"Santiago\", \"Chile\"))\n",
    "print(city_country(\"Lagos\", \"Nigeria\"))\n",
    "print(city_country(\"Paris\", \"France\"))\n"
   ]
  },
  {
   "cell_type": "code",
   "execution_count": 32,
   "metadata": {},
   "outputs": [
    {
     "name": "stdout",
     "output_type": "stream",
     "text": [
      "Sandwich ingredients:\n",
      "- Ham\n",
      "- Cheese\n",
      "- Lettuce\n",
      "Enjoy your sandwich!\n",
      "Sandwich ingredients:\n",
      "- Turkey\n",
      "- Swiss\n",
      "Enjoy your sandwich!\n",
      "Sandwich ingredients:\n",
      "- Peanut Butter\n",
      "- Jelly\n",
      "Enjoy your sandwich!\n"
     ]
    }
   ],
   "source": [
    " # 8-12. Sandwiches\n",
    "def make_sandwich(*items):\n",
    "    \"\"\"Print a summary of the sandwich with the provided items.\"\"\"\n",
    "    print(\"Sandwich ingredients:\")\n",
    "    for item in items:\n",
    "        print(f\"- {item}\")\n",
    "    print(\"Enjoy your sandwich!\")\n",
    "\n",
    "# Call the function three times with different numbers of arguments\n",
    "make_sandwich(\"Ham\", \"Cheese\", \"Lettuce\")\n",
    "make_sandwich(\"Turkey\", \"Swiss\")\n",
    "make_sandwich(\"Peanut Butter\", \"Jelly\")"
   ]
  }
 ],
 "metadata": {
  "kernelspec": {
   "display_name": "datascience",
   "language": "python",
   "name": "python3"
  },
  "language_info": {
   "codemirror_mode": {
    "name": "ipython",
    "version": 3
   },
   "file_extension": ".py",
   "mimetype": "text/x-python",
   "name": "python",
   "nbconvert_exporter": "python",
   "pygments_lexer": "ipython3",
   "version": "3.8.18"
  }
 },
 "nbformat": 4,
 "nbformat_minor": 2
}
