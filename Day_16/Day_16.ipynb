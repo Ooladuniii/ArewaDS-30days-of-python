{
 "cells": [
  {
   "cell_type": "markdown",
   "metadata": {},
   "source": [
    "# EXERCISE: DAY 16 (DATETIME)"
   ]
  },
  {
   "cell_type": "code",
   "execution_count": 1,
   "metadata": {},
   "outputs": [
    {
     "name": "stdout",
     "output_type": "stream",
     "text": [
      "Current Date: 31/12/2023\n",
      "Current Time: 14:20\n",
      "Timestamp: 1704028821.837518\n"
     ]
    }
   ],
   "source": [
    "from datetime import datetime\n",
    "\n",
    "# Get the current date and time\n",
    "current_datetime = datetime.now()\n",
    "\n",
    "# Extract individual components\n",
    "current_day = current_datetime.day\n",
    "current_month = current_datetime.month\n",
    "current_year = current_datetime.year\n",
    "current_hour = current_datetime.hour\n",
    "current_minute = current_datetime.minute\n",
    "\n",
    "# Get the timestamp\n",
    "timestamp = current_datetime.timestamp()\n",
    "\n",
    "# Print the results\n",
    "print(f\"Current Date: {current_day}/{current_month}/{current_year}\")\n",
    "print(f\"Current Time: {current_hour}:{current_minute}\")\n",
    "print(f\"Timestamp: {timestamp}\")\n"
   ]
  },
  {
   "cell_type": "code",
   "execution_count": 2,
   "metadata": {},
   "outputs": [
    {
     "name": "stdout",
     "output_type": "stream",
     "text": [
      "12/31/2023, 14:23:27\n"
     ]
    }
   ],
   "source": [
    "from datetime import datetime\n",
    "\n",
    "# Get the current date and time\n",
    "current_datetime = datetime.now()\n",
    "\n",
    "# Format the current date\n",
    "formatted_date = current_datetime.strftime(\"%m/%d/%Y, %H:%M:%S\")\n",
    "\n",
    "# Print the formatted date\n",
    "print(formatted_date)\n"
   ]
  },
  {
   "cell_type": "code",
   "execution_count": 3,
   "metadata": {},
   "outputs": [
    {
     "name": "stdout",
     "output_type": "stream",
     "text": [
      "Converted Datetime: 2019-12-05 00:00:00\n"
     ]
    }
   ],
   "source": [
    "\n",
    "# Your given time string\n",
    "time_string = \"5 December, 2019\"\n",
    "\n",
    "# Convert the time string to a datetime object\n",
    "converted_datetime = datetime.strptime(time_string, \"%d %B, %Y\")\n",
    "\n",
    "# Print the converted datetime object\n",
    "print(\"Converted Datetime:\", converted_datetime)\n"
   ]
  },
  {
   "cell_type": "code",
   "execution_count": 5,
   "metadata": {},
   "outputs": [
    {
     "name": "stdout",
     "output_type": "stream",
     "text": [
      "Time difference to New Year: 9:32:12.258322\n"
     ]
    }
   ],
   "source": [
    "# Get the current date and time\n",
    "current_datetime = datetime.now()\n",
    "\n",
    "# Define the New Year's date\n",
    "new_year_date = datetime(current_datetime.year + 1, 1, 1)\n",
    "\n",
    "# Calculate the time difference\n",
    "time_difference = new_year_date - current_datetime\n",
    "\n",
    "# Print the time difference\n",
    "print(f\"Time difference to New Year: {time_difference}\")\n"
   ]
  },
  {
   "cell_type": "code",
   "execution_count": 6,
   "metadata": {},
   "outputs": [
    {
     "name": "stdout",
     "output_type": "stream",
     "text": [
      "Time difference from 1 January 1970 to now: 19722 days, 14:29:20.608474\n"
     ]
    }
   ],
   "source": [
    "\n",
    "# Get the current date and time\n",
    "current_datetime = datetime.now()\n",
    "\n",
    "# Define the epoch time\n",
    "epoch_time = datetime(1970, 1, 1)\n",
    "\n",
    "# Calculate the time difference\n",
    "time_difference = current_datetime - epoch_time\n",
    "\n",
    "# Print the time difference\n",
    "print(f\"Time difference from 1 January 1970 to now: {time_difference}\")\n"
   ]
  },
  {
   "cell_type": "markdown",
   "metadata": {},
   "source": [
    "## USES OF DATETME MODULE\n",
    "Time Series Analyis:\n",
    "\n",
    "- Analyzing and manipulating time-based data.\n",
    "- Calculating time differences and intervals.\n",
    "\n",
    "Logging Activities:\n",
    "- Recording timestamps for application events.\n",
    "- Debugging and profiling code execution time.\n",
    "\n",
    "Timestamps in Content:\n",
    "- Adding publication timestamps to blog posts.\n",
    "- Sorting and organizing content chronologically.\n",
    "\n",
    "Event Scheduling:\n",
    "- Managing scheduled events and reminders.\n",
    "- Time-sensitive notifications and actions.\n",
    "\n",
    "Data Processing:\n",
    "- Filtering and processing data based on time.\n",
    "- Time-based aggregations and summaries.\n",
    "\n",
    "Financial Applications:\n",
    "- Calculating interest rates and investment durations.\n",
    "- Analyzing historical financial data.\n",
    "\n",
    "Database Operations:\n",
    "- Storing and querying timestamps in databases.\n",
    "- Managing temporal aspects of records.\n",
    "\n",
    "Automation and Tasks:\n",
    "- Automating tasks based on time schedules.\n",
    "- Running periodic scripts and jobs."
   ]
  }
 ],
 "metadata": {
  "kernelspec": {
   "display_name": "datascience",
   "language": "python",
   "name": "python3"
  },
  "language_info": {
   "codemirror_mode": {
    "name": "ipython",
    "version": 3
   },
   "file_extension": ".py",
   "mimetype": "text/x-python",
   "name": "python",
   "nbconvert_exporter": "python",
   "pygments_lexer": "ipython3",
   "version": "3.8.18"
  }
 },
 "nbformat": 4,
 "nbformat_minor": 2
}
