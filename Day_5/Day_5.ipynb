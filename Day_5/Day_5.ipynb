{
 "cells": [
  {
   "cell_type": "markdown",
   "metadata": {},
   "source": [
    "# EXERCISES: LEVEL 1"
   ]
  },
  {
   "cell_type": "code",
   "execution_count": 99,
   "metadata": {},
   "outputs": [
    {
     "name": "stdout",
     "output_type": "stream",
     "text": [
      "[]\n"
     ]
    }
   ],
   "source": [
    " # declare empty list\n",
    "empty_list = []\n",
    "print(empty_list)"
   ]
  },
  {
   "cell_type": "code",
   "execution_count": 100,
   "metadata": {},
   "outputs": [
    {
     "name": "stdout",
     "output_type": "stream",
     "text": [
      "List with more than 5 items: [1, 2, 3, 4, 5, 6, 7]\n"
     ]
    }
   ],
   "source": [
    " # Declare a list with more than 5 items\n",
    "list_with_items = [1, 2, 3, 4, 5, 6, 7]\n",
    "print(\"List with more than 5 items:\", list_with_items) "
   ]
  },
  {
   "cell_type": "code",
   "execution_count": 101,
   "metadata": {},
   "outputs": [
    {
     "name": "stdout",
     "output_type": "stream",
     "text": [
      "Length of the list: 7\n"
     ]
    }
   ],
   "source": [
    "\n",
    "# Find the length of the list\n",
    "list_length = len(list_with_items)\n",
    "print(\"Length of the list:\", list_length)"
   ]
  },
  {
   "cell_type": "code",
   "execution_count": 102,
   "metadata": {},
   "outputs": [
    {
     "name": "stdout",
     "output_type": "stream",
     "text": [
      "First item: 1\n",
      "Middle item: 4\n",
      "Last item: 7\n"
     ]
    }
   ],
   "source": [
    "\n",
    "\n",
    "# Get the first item\n",
    "first_item = list_with_items[0]\n",
    "\n",
    "# Get the middle item\n",
    "middle_index = len(list_with_items) // 2\n",
    "middle_item = list_with_items[middle_index] if len(list_with_items) % 2 != 0 else (list_with_items[middle_index - 1] + list_with_items[middle_index]) / 2\n",
    "\n",
    "# Get the last item\n",
    "last_item = list_with_items[-1]\n",
    "\n",
    "# Print the results\n",
    "print(\"First item:\", first_item)\n",
    "print(\"Middle item:\", middle_item)\n",
    "print(\"Last item:\", last_item)\n"
   ]
  },
  {
   "cell_type": "code",
   "execution_count": 103,
   "metadata": {},
   "outputs": [
    {
     "name": "stdout",
     "output_type": "stream",
     "text": [
      "Mixed Data Types: ['Olayinka', 25, 1.75, 'Married', '6, Peter-Eruteya Street, Abule_Egba, Lagos State']\n"
     ]
    }
   ],
   "source": [
    "# Declare a list called mixed_data_types\n",
    "mixed_data_types = [\"Olayinka\", 25, 1.75, \"Married\", \"6, Peter-Eruteya Street, Abule_Egba, Lagos State\"]\n",
    "print(\"Mixed Data Types:\", mixed_data_types)"
   ]
  },
  {
   "cell_type": "code",
   "execution_count": 104,
   "metadata": {},
   "outputs": [
    {
     "name": "stdout",
     "output_type": "stream",
     "text": [
      "IT Companies: ['Facebook', 'Google', 'Microsoft', 'Apple', 'IBM', 'Oracle', 'Amazon']\n"
     ]
    }
   ],
   "source": [
    "# Declare a list variable named it_companies\n",
    "it_companies = [\"Facebook\", \"Google\", \"Microsoft\", \"Apple\", \"IBM\", \"Oracle\", \"Amazon\"]\n",
    "print(\"IT Companies:\", it_companies)"
   ]
  },
  {
   "cell_type": "code",
   "execution_count": 105,
   "metadata": {},
   "outputs": [
    {
     "name": "stdout",
     "output_type": "stream",
     "text": [
      "Number of Companies: 7\n"
     ]
    }
   ],
   "source": [
    "# 8. Print the number of companies in the list\n",
    "num_companies = len(it_companies)\n",
    "print(\"Number of Companies:\", num_companies)\n"
   ]
  },
  {
   "cell_type": "code",
   "execution_count": 106,
   "metadata": {},
   "outputs": [
    {
     "name": "stdout",
     "output_type": "stream",
     "text": [
      "First Company: Facebook\n",
      "Middle Company: Apple\n",
      "Last Company: Amazon\n"
     ]
    }
   ],
   "source": [
    "# 9. Print the first, middle, and last company\n",
    "first_company = it_companies[0]\n",
    "middle_company_index = len(it_companies) // 2\n",
    "middle_company = it_companies[middle_company_index] if len(it_companies) % 2 != 0 else it_companies[middle_company_index - 1 : middle_company_index + 1]\n",
    "last_company = it_companies[-1]\n",
    "\n",
    "# Print the results\n",
    "print(\"First Company:\", first_company)\n",
    "print(\"Middle Company:\", middle_company)\n",
    "print(\"Last Company:\", last_company)"
   ]
  },
  {
   "cell_type": "code",
   "execution_count": 107,
   "metadata": {},
   "outputs": [
    {
     "name": "stdout",
     "output_type": "stream",
     "text": [
      "Original IT Companies: ['Facebook', 'Google', 'Microsoft', 'Apple', 'IBM', 'Oracle', 'Amazon']\n",
      "After modifying a company: ['Facebook', 'Google', 'LinkedIn', 'Apple', 'IBM', 'Oracle', 'Amazon']\n"
     ]
    }
   ],
   "source": [
    "# Original IT Companies list\n",
    "it_companies = [\"Facebook\", \"Google\", \"Microsoft\", \"Apple\", \"IBM\", \"Oracle\", \"Amazon\"]\n",
    "\n",
    "# 10. Print the list after modifying one of the companies\n",
    "print(\"Original IT Companies:\", it_companies)\n",
    "\n",
    "# Modify one of the companies (Microsoft to LinkedIn)\n",
    "it_companies[2] = \"LinkedIn\"\n",
    "print(\"After modifying a company:\", it_companies)\n"
   ]
  },
  {
   "cell_type": "code",
   "execution_count": 108,
   "metadata": {},
   "outputs": [
    {
     "name": "stdout",
     "output_type": "stream",
     "text": [
      "After adding a company: ['Facebook', 'Google', 'LinkedIn', 'Apple', 'IBM', 'Oracle', 'Amazon', 'Instagram']\n"
     ]
    }
   ],
   "source": [
    "# 11. Add an IT company to it_companies\n",
    "it_companies.append(\"Instagram\")\n",
    "print(\"After adding a company:\", it_companies)\n"
   ]
  },
  {
   "cell_type": "code",
   "execution_count": 109,
   "metadata": {},
   "outputs": [
    {
     "name": "stdout",
     "output_type": "stream",
     "text": [
      "After inserting a company in the middle: ['Facebook', 'Google', 'LinkedIn', 'Apple', 'Tiktok', 'IBM', 'Oracle', 'Amazon', 'Instagram']\n"
     ]
    }
   ],
   "source": [
    "# 12. Insert an IT company in the middle of the companies list\n",
    "middle_index = len(it_companies) // 2\n",
    "it_companies.insert(middle_index, \"Tiktok\")\n",
    "print(\"After inserting a company in the middle:\", it_companies)\n"
   ]
  },
  {
   "cell_type": "code",
   "execution_count": 110,
   "metadata": {},
   "outputs": [
    {
     "name": "stdout",
     "output_type": "stream",
     "text": [
      "After changing a company name to uppercase: LINKEDIN\n"
     ]
    }
   ],
   "source": [
    "# 13. Change one of the it_companies names to uppercase (IBM excluded!)\n",
    "# change the third company to uppercase\n",
    "third_it_companies = it_companies[2].upper()\n",
    "print(\"After changing a company name to uppercase:\", third_it_companies)\n"
   ]
  },
  {
   "cell_type": "code",
   "execution_count": 111,
   "metadata": {},
   "outputs": [
    {
     "name": "stdout",
     "output_type": "stream",
     "text": [
      "Joined Companies: Facebook#;  Google#;  LinkedIn#;  Apple#;  Tiktok#;  IBM#;  Oracle#;  Amazon#;  Instagram\n"
     ]
    }
   ],
   "source": [
    "# 14. Join the it_companies with a string '#;  '\n",
    "joined_companies = '#;  '.join(it_companies)\n",
    "print(\"Joined Companies:\", joined_companies)\n"
   ]
  },
  {
   "cell_type": "code",
   "execution_count": 112,
   "metadata": {},
   "outputs": [
    {
     "name": "stdout",
     "output_type": "stream",
     "text": [
      "Google exists in the IT Companies list.\n"
     ]
    }
   ],
   "source": [
    " # 15. Check if a certain company exists in the it_companies list\n",
    "company_to_check = \"Google\"\n",
    "if company_to_check in it_companies:\n",
    "    print(f\"{company_to_check} exists in the IT Companies list.\")\n",
    "else:\n",
    "    print(f\"{company_to_check} does not exist in the IT Companies list.\")\n"
   ]
  },
  {
   "cell_type": "code",
   "execution_count": 113,
   "metadata": {},
   "outputs": [
    {
     "name": "stdout",
     "output_type": "stream",
     "text": [
      "Sorted IT Companies: ['Amazon', 'Apple', 'Facebook', 'Google', 'IBM', 'Instagram', 'LinkedIn', 'Oracle', 'Tiktok']\n"
     ]
    }
   ],
   "source": [
    "# 16. Sort the list using sort() method\n",
    "it_companies.sort()\n",
    "print(\"Sorted IT Companies:\", it_companies)\n"
   ]
  },
  {
   "cell_type": "code",
   "execution_count": 114,
   "metadata": {},
   "outputs": [
    {
     "name": "stdout",
     "output_type": "stream",
     "text": [
      "Reversed IT Companies (descending order): ['Tiktok', 'Oracle', 'LinkedIn', 'Instagram', 'IBM', 'Google', 'Facebook', 'Apple', 'Amazon']\n"
     ]
    }
   ],
   "source": [
    "# 17. Reverse the list in descending order using reverse() method\n",
    "it_companies.reverse()\n",
    "print(\"Reversed IT Companies (descending order):\", it_companies)"
   ]
  },
  {
   "cell_type": "code",
   "execution_count": 115,
   "metadata": {},
   "outputs": [
    {
     "name": "stdout",
     "output_type": "stream",
     "text": [
      "First 3 companies: ['Tiktok', 'Oracle', 'LinkedIn']\n"
     ]
    }
   ],
   "source": [
    "# 18. Slice out the first 3 companies from the list\n",
    "first_three_companies = it_companies[:3]\n",
    "print(\"First 3 companies:\", first_three_companies)\n"
   ]
  },
  {
   "cell_type": "code",
   "execution_count": 116,
   "metadata": {},
   "outputs": [
    {
     "name": "stdout",
     "output_type": "stream",
     "text": [
      "Last 3 companies: ['Facebook', 'Apple', 'Amazon']\n"
     ]
    }
   ],
   "source": [
    "# 19. Slice out the last 3 companies from the list\n",
    "last_three_companies = it_companies[-3:]\n",
    "print(\"Last 3 companies:\", last_three_companies)\n"
   ]
  },
  {
   "cell_type": "code",
   "execution_count": 117,
   "metadata": {},
   "outputs": [
    {
     "name": "stdout",
     "output_type": "stream",
     "text": [
      "Middle company or companies: IBM\n"
     ]
    }
   ],
   "source": [
    "# 20. Slice out the middle IT company or companies from the list\n",
    "middle_index = len(it_companies) // 2\n",
    "middle_companies = it_companies[middle_index] if len(it_companies) % 2 != 0 else it_companies[middle_index - 1 : middle_index + 1]\n",
    "print(\"Middle company or companies:\", middle_companies)\n"
   ]
  },
  {
   "cell_type": "code",
   "execution_count": 118,
   "metadata": {},
   "outputs": [
    {
     "name": "stdout",
     "output_type": "stream",
     "text": [
      "After removing the first IT company: ['Oracle', 'LinkedIn', 'Instagram', 'IBM', 'Google', 'Facebook', 'Apple', 'Amazon']\n"
     ]
    }
   ],
   "source": [
    "# 21. Remove the first IT company from the list\n",
    "it_companies.pop(0)\n",
    "print(\"After removing the first IT company:\", it_companies)\n"
   ]
  },
  {
   "cell_type": "code",
   "execution_count": 119,
   "metadata": {},
   "outputs": [
    {
     "name": "stdout",
     "output_type": "stream",
     "text": [
      "After removing the middle IT company: ['Oracle', 'LinkedIn', 'Instagram', 'Google', 'Facebook', 'Apple', 'Amazon']\n"
     ]
    }
   ],
   "source": [
    "# 22. Remove the middle IT company or companies from the list\n",
    "middle_index = len(it_companies) // 2\n",
    "it_companies.pop(middle_index) if len(it_companies) % 2 != 0 else it_companies.pop(middle_index - 1)\n",
    "print(\"After removing the middle IT company:\", it_companies)\n"
   ]
  },
  {
   "cell_type": "code",
   "execution_count": 120,
   "metadata": {},
   "outputs": [
    {
     "name": "stdout",
     "output_type": "stream",
     "text": [
      "After removing the last IT company: ['Oracle', 'LinkedIn', 'Instagram', 'Google', 'Facebook', 'Apple']\n"
     ]
    }
   ],
   "source": [
    "# 23. Remove the last IT company from the list\n",
    "it_companies.pop(-1)\n",
    "print(\"After removing the last IT company:\", it_companies)\n"
   ]
  },
  {
   "cell_type": "code",
   "execution_count": 121,
   "metadata": {},
   "outputs": [
    {
     "name": "stdout",
     "output_type": "stream",
     "text": [
      "After removing all IT companies: []\n"
     ]
    }
   ],
   "source": [
    "# 24. Remove all IT companies from the list\n",
    "it_companies.clear()\n",
    "print(\"After removing all IT companies:\", it_companies)\n"
   ]
  },
  {
   "cell_type": "code",
   "execution_count": 122,
   "metadata": {},
   "outputs": [],
   "source": [
    "# destory it companies \n",
    "del it_companies"
   ]
  },
  {
   "cell_type": "code",
   "execution_count": 123,
   "metadata": {},
   "outputs": [
    {
     "name": "stdout",
     "output_type": "stream",
     "text": [
      "['HTML', 'CSS', 'JS', 'React', 'Redux', 'Node', 'Express', 'MongoDB']\n"
     ]
    }
   ],
   "source": [
    "# 26. Join the following lists\n",
    "front_end = ['HTML', 'CSS', 'JS', 'React', 'Redux']\n",
    "back_end = ['Node', 'Express', 'MongoDB']\n",
    "\n",
    "full_stack = front_end + back_end\n",
    "\n",
    "# Print the result\n",
    "print(full_stack)\n"
   ]
  },
  {
   "cell_type": "code",
   "execution_count": 124,
   "metadata": {},
   "outputs": [
    {
     "name": "stdout",
     "output_type": "stream",
     "text": [
      "Full Stack Copy after inserting Python and SQL: ['HTML', 'CSS', 'JS', 'React', 'Redux', 'Python', 'SQL', 'Node', 'Express', 'MongoDB']\n"
     ]
    }
   ],
   "source": [
    "# 27. After joining the lists in question 26\n",
    "\n",
    "# Copy the joined list to a new variable full_stack_copy\n",
    "copy = full_stack.copy()\n",
    "\n",
    "# Insert Python and SQL after Redux in the copied list\n",
    "redux_index = copy.index('Redux')\n",
    "copy.insert(redux_index + 1, 'Python')\n",
    "copy.insert(redux_index + 2, 'SQL')\n",
    "\n",
    "# Print the modified copied list\n",
    "print(\"Full Stack Copy after inserting Python and SQL:\", copy)\n",
    "\n"
   ]
  },
  {
   "cell_type": "markdown",
   "metadata": {},
   "source": [
    "# EXERCISES: LEVEL 2"
   ]
  },
  {
   "cell_type": "code",
   "execution_count": 125,
   "metadata": {},
   "outputs": [
    {
     "name": "stdout",
     "output_type": "stream",
     "text": [
      "Sorted Ages: [19, 19, 20, 22, 24, 24, 24, 25, 25, 26]\n",
      "Min Age: 19\n",
      "Max Age: 26\n"
     ]
    }
   ],
   "source": [
    " # The following is a list of 10 students ages\n",
    "ages = [19, 22, 19, 24, 20, 25, 26, 24, 25, 24]\n",
    "\n",
    "# 1. Sort the list and find the min and max age\n",
    "ages.sort()\n",
    "min_age = min(ages)\n",
    "max_age = max(ages)\n",
    "print(\"Sorted Ages:\", ages)\n",
    "print(\"Min Age:\", min_age)\n",
    "print(\"Max Age:\", max_age)"
   ]
  },
  {
   "cell_type": "code",
   "execution_count": 126,
   "metadata": {},
   "outputs": [
    {
     "name": "stdout",
     "output_type": "stream",
     "text": [
      "Ages after adding min and max age: [19, 19, 20, 22, 24, 24, 24, 25, 25, 26, 19, 26]\n"
     ]
    }
   ],
   "source": [
    "# 2. Add the min age and the max age again to the list\n",
    "ages.append(min_age)\n",
    "ages.append(max_age)\n",
    "print(\"Ages after adding min and max age:\", ages)\n"
   ]
  },
  {
   "cell_type": "code",
   "execution_count": 127,
   "metadata": {},
   "outputs": [
    {
     "name": "stdout",
     "output_type": "stream",
     "text": [
      "Median Age: 24.0\n"
     ]
    }
   ],
   "source": [
    "# 3. Find the median age\n",
    "sorted_ages = sorted(ages)\n",
    "middle_index = len(sorted_ages) // 2\n",
    "median_age = sorted_ages[middle_index] if len(sorted_ages) % 2 != 0 else (sorted_ages[middle_index - 1] + sorted_ages[middle_index]) / 2\n",
    "print(\"Median Age:\", median_age)\n"
   ]
  },
  {
   "cell_type": "code",
   "execution_count": 128,
   "metadata": {},
   "outputs": [
    {
     "name": "stdout",
     "output_type": "stream",
     "text": [
      "Average Age: 22.75\n"
     ]
    }
   ],
   "source": [
    "# 4. Find the average age\n",
    "average_age = sum(ages) / len(ages)\n",
    "print(\"Average Age:\", average_age)\n"
   ]
  },
  {
   "cell_type": "code",
   "execution_count": 129,
   "metadata": {},
   "outputs": [
    {
     "name": "stdout",
     "output_type": "stream",
     "text": [
      "Age Range: 7\n"
     ]
    }
   ],
   "source": [
    "# 5. Find the range of the ages (max minus min)\n",
    "age_range = max_age - min_age\n",
    "print(\"Age Range:\", age_range)\n"
   ]
  },
  {
   "cell_type": "code",
   "execution_count": 130,
   "metadata": {},
   "outputs": [
    {
     "name": "stdout",
     "output_type": "stream",
     "text": [
      "Absolute Difference between Min and Average Age: 3.75\n",
      "Absolute Difference between Max and Average Age: 3.25\n"
     ]
    }
   ],
   "source": [
    "# 6. Compare the value of (min - average) and (max - average), use abs() method\n",
    "min_difference =  abs(min_age - average_age)\n",
    "max_difference = abs(max_age - average_age)\n",
    "print(\"Absolute Difference between Min and Average Age:\", min_difference)\n",
    "print(\"Absolute Difference between Max and Average Age:\", max_difference)"
   ]
  },
  {
   "cell_type": "code",
   "execution_count": 131,
   "metadata": {},
   "outputs": [
    {
     "name": "stdout",
     "output_type": "stream",
     "text": [
      "Middle Country or Countries: ['Thailand', 'Togo']\n"
     ]
    }
   ],
   "source": [
    "# List of countries\n",
    "countries = [\n",
    "    'Serbia and Montenegro', 'Seychelles', 'Sierra Leone', 'Singapore', 'Slovakia', 'Slovenia',\n",
    "    'Solomon Islands', 'Somalia', 'South Africa', 'Spain', 'Sri Lanka', 'Sudan', 'Suriname',\n",
    "    'Swaziland', 'Sweden', 'Switzerland', 'Syria', 'Taiwan', 'Tajikistan', 'Tanzania', 'Thailand',\n",
    "    'Togo', 'Tonga', 'Trinidad and Tobago', 'Tunisia', 'Turkey', 'Turkmenistan', 'Tuvalu', 'Uganda',\n",
    "    'Ukraine', 'United Arab Emirates', 'United Kingdom', 'United States', 'Uruguay', 'Uzbekistan',\n",
    "    'Vanuatu', 'Vatican City', 'Venezuela', 'Vietnam', 'Yemen', 'Zambia', 'Zimbabwe'\n",
    "]\n",
    "\n",
    "# Find the middle country or countries\n",
    "middle_index = len(countries) // 2\n",
    "middle_countries = countries[middle_index] if len(countries) % 2 != 0 else countries[middle_index - 1 : middle_index + 1]\n",
    "\n",
    "# Print the result\n",
    "print(\"Middle Country or Countries:\", middle_countries)\n"
   ]
  },
  {
   "cell_type": "code",
   "execution_count": 132,
   "metadata": {},
   "outputs": [
    {
     "name": "stdout",
     "output_type": "stream",
     "text": [
      "First Half Countries: ['Serbia and Montenegro', 'Seychelles', 'Sierra Leone', 'Singapore', 'Slovakia', 'Slovenia', 'Solomon Islands', 'Somalia', 'South Africa', 'Spain', 'Sri Lanka', 'Sudan', 'Suriname', 'Swaziland', 'Sweden', 'Switzerland', 'Syria', 'Taiwan', 'Tajikistan', 'Tanzania', 'Thailand', 'Togo']\n",
      "Second Half Countries: ['Tonga', 'Trinidad and Tobago', 'Tunisia', 'Turkey', 'Turkmenistan', 'Tuvalu', 'Uganda', 'Ukraine', 'United Arab Emirates', 'United Kingdom', 'United States', 'Uruguay', 'Uzbekistan', 'Vanuatu', 'Vatican City', 'Venezuela', 'Vietnam', 'Yemen', 'Zambia', 'Zimbabwe']\n"
     ]
    }
   ],
   "source": [
    "# Calculate the middle index\n",
    "middle_index = len(countries) // 2\n",
    "\n",
    "# Divide the countries list into two equal lists (or one more country for the first half if the list length is odd)\n",
    "first_half_countries = countries[:middle_index + 1]\n",
    "second_half_countries = countries[middle_index + 1:]\n",
    "\n",
    "# Print the results\n",
    "print(\"First Half Countries:\", first_half_countries)\n",
    "print(\"Second Half Countries:\", second_half_countries)"
   ]
  },
  {
   "cell_type": "code",
   "execution_count": 133,
   "metadata": {},
   "outputs": [
    {
     "name": "stdout",
     "output_type": "stream",
     "text": [
      "First Country: Serbia and Montenegro\n",
      "Second Country: Seychelles\n",
      "Third Country: Sierra Leone\n",
      "Scandinavian Countries: ['Singapore', 'Slovakia', 'Slovenia', 'Solomon Islands', 'Somalia', 'South Africa', 'Spain', 'Sri Lanka', 'Sudan', 'Suriname', 'Swaziland', 'Sweden', 'Switzerland', 'Syria', 'Taiwan', 'Tajikistan', 'Tanzania', 'Thailand', 'Togo', 'Tonga', 'Trinidad and Tobago', 'Tunisia', 'Turkey', 'Turkmenistan', 'Tuvalu', 'Uganda', 'Ukraine', 'United Arab Emirates', 'United Kingdom', 'United States', 'Uruguay', 'Uzbekistan', 'Vanuatu', 'Vatican City', 'Venezuela', 'Vietnam', 'Yemen', 'Zambia', 'Zimbabwe']\n"
     ]
    }
   ],
   "source": [
    "# List of countries\n",
    "countries_2 = ['China', 'Russia', 'USA', 'Finland', 'Sweden', 'Norway', 'Denmark']\n",
    "\n",
    "# Unpack the first three countries and the rest as Scandinavian countries\n",
    "first_country, second_country, third_country, *scandinavian_countries = countries\n",
    "\n",
    "# Print the first three countries\n",
    "print(\"First Country:\", first_country)\n",
    "print(\"Second Country:\", second_country)\n",
    "print(\"Third Country:\", third_country)\n",
    "\n",
    "# Print the rest as Scandinavian countries\n",
    "print(\"Scandinavian Countries:\", scandinavian_countries)\n"
   ]
  }
 ],
 "metadata": {
  "kernelspec": {
   "display_name": "datascience",
   "language": "python",
   "name": "python3"
  },
  "language_info": {
   "codemirror_mode": {
    "name": "ipython",
    "version": 3
   },
   "file_extension": ".py",
   "mimetype": "text/x-python",
   "name": "python",
   "nbconvert_exporter": "python",
   "pygments_lexer": "ipython3",
   "version": "3.8.18"
  }
 },
 "nbformat": 4,
 "nbformat_minor": 2
}
