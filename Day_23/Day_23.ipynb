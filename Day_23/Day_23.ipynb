{
 "cells": [
  {
   "cell_type": "markdown",
   "metadata": {},
   "source": [
    "### Exercises: Day 23\n",
    "\n",
    "**Q1- Create a project directory with a virtual environment based on the example given above.**\n"
   ]
  },
  {
   "cell_type": "markdown",
   "metadata": {},
   "source": [
    "1. Open your terminal or command prompt.\n",
    "\n",
    "2. Navigate to the directory where i want to create the  project.\n",
    "    \n",
    "    cd /c/Users/User/Desktop/30DaysOfPython/Day_23\n",
    "\n",
    "3. **Create a New Directory for Your Project:**\n",
    "   \n",
    "     mkdir flask_project\n",
    "     \n",
    "4.  **Move into the New Directory:**\n",
    "   \n",
    "     cd flask_project\n",
    "    \n",
    "5.  **Create a Virtual Environment Named `venv`:**\n",
    "   using the command:\n",
    "    \n",
    "     python -m venv venv\n",
    "    \n",
    "6. **Activate the Virtual Environment:**\n",
    "   using the comand:\n",
    "     \n",
    "     venv\\Scripts\\activate\n",
    "    \n",
    "    after step 6, my command prompt shows the virtual environment i.e the enironment is active\n",
    "\n",
    "7. ** Package Installaton**\n",
    "    using the command \n",
    "    \n",
    "    pip install Flask\n",
    "\n",
    "8. **Check the installed packages in the virtual environment**\n",
    "    using the command \n",
    "    pip freeze \n",
    "    the following packages was seen:\n",
    "    Click==7.0\n",
    "    Flask==1.1.1\n",
    "    itsdangerous==1.1.0\n",
    "    Jinja2==2.10.3\n",
    "    MarkupSafe==1.1.1\n",
    "    Werkzeug==0.16.0\n",
    "\n",
    "9.  **Deactiavte the environment** \n",
    "    using the comand \n",
    "    deactivate \n",
    " The `(venv)` indicator disappear from the command prompt i.e return back to base \n",
    "\n",
    "10.**Add the virtual environment directory to your `.gitignore` file** \n",
    "\n",
    "    venv/\n",
    "\n",
    "    Then save the changes.\n",
    "\n",
    "\n",
    "\n",
    "9. "
   ]
  }
 ],
 "metadata": {
  "language_info": {
   "name": "python"
  }
 },
 "nbformat": 4,
 "nbformat_minor": 2
}
