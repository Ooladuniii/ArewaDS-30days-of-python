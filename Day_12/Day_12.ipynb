{
 "cells": [
  {
   "cell_type": "markdown",
   "metadata": {},
   "source": [
    "# EXERCISES: LEVEL 2"
   ]
  },
  {
   "cell_type": "code",
   "execution_count": 1,
   "metadata": {},
   "outputs": [
    {
     "name": "stdout",
     "output_type": "stream",
     "text": [
      "s84ie5\n"
     ]
    }
   ],
   "source": [
    "import random\n",
    "import string\n",
    "\n",
    "def random_user_id(length=6):\n",
    "    chars = string.ascii_lowercase + string.digits\n",
    "    return ''.join(random.choice(chars) for _ in range(length))\n",
    "\n",
    "# get result\n",
    "print(random_user_id())\n"
   ]
  },
  {
   "cell_type": "code",
   "execution_count": 5,
   "metadata": {},
   "outputs": [
    {
     "name": "stdout",
     "output_type": "stream",
     "text": [
      "XEC2t\n",
      "0ERRZ\n",
      "Z9OkI\n",
      "1Dorb\n",
      "LhUqO\n"
     ]
    }
   ],
   "source": [
    "def user_id_gen_by_user():\n",
    "    num_characters = int(input(\"Enter the number of characters: \"))\n",
    "    num_ids = int(input(\"Enter the number of IDs to generate: \"))\n",
    "\n",
    "    def generate_user_id(length):\n",
    "        chars = string.ascii_letters + string.digits\n",
    "        return ''.join(random.choice(chars) for _ in range(length))\n",
    "\n",
    "    for _ in range(num_ids):\n",
    "        print(generate_user_id(num_characters))\n",
    "\n",
    "\n",
    "user_id_gen_by_user()\n"
   ]
  },
  {
   "cell_type": "code",
   "execution_count": 7,
   "metadata": {},
   "outputs": [
    {
     "name": "stdout",
     "output_type": "stream",
     "text": [
      "ibIT0qtop8XUEmnj\n",
      "oTydFFDIvLNpgaJ2\n",
      "XNs8ICZGgDVsbkAR\n",
      "ukKzXgSsu55wVld4\n",
      "28XVHa4u9Uaw34bN\n"
     ]
    }
   ],
   "source": [
    "def user_id_gen_by_user():\n",
    "    num_characters = int(input(\"Enter the number of characters: \"))\n",
    "    num_ids = int(input(\"Enter the number of IDs to generate: \"))\n",
    "\n",
    "    def generate_user_id(length):\n",
    "        chars = string.ascii_letters + string.digits\n",
    "        return ''.join(random.choice(chars) for _ in range(length))\n",
    "\n",
    "    for _ in range(num_ids):\n",
    "        print(generate_user_id(num_characters))\n",
    "\n",
    "\n",
    "user_id_gen_by_user()\n"
   ]
  },
  {
   "cell_type": "code",
   "execution_count": 8,
   "metadata": {},
   "outputs": [
    {
     "name": "stdout",
     "output_type": "stream",
     "text": [
      "rgb(152,41,125)\n"
     ]
    }
   ],
   "source": [
    "def rgb_color_gen():\n",
    "    red = random.randint(0, 255)\n",
    "    green = random.randint(0, 255)\n",
    "    blue = random.randint(0, 255)\n",
    "    return f\"rgb({red},{green},{blue})\"\n",
    "print(rgb_color_gen())\n"
   ]
  },
  {
   "cell_type": "markdown",
   "metadata": {},
   "source": [
    "# EXERCISES: LEVEL 2"
   ]
  },
  {
   "cell_type": "code",
   "execution_count": 9,
   "metadata": {},
   "outputs": [
    {
     "name": "stdout",
     "output_type": "stream",
     "text": [
      "['#5d0f33', '#5dfeb6', '#125d5f', '#7a3464', '#8c7d52']\n"
     ]
    }
   ],
   "source": [
    "def list_of_hexa_colors(num_colors):\n",
    "    colors = []\n",
    "    for _ in range(num_colors):\n",
    "        color = \"#{:06x}\".format(random.randint(0, 0xFFFFFF))\n",
    "        colors.append(color)\n",
    "    return colors\n",
    "\n",
    "# Example usage\n",
    "num_colors = 5  \n",
    "result = list_of_hexa_colors(num_colors)\n",
    "print(result)\n"
   ]
  },
  {
   "cell_type": "code",
   "execution_count": 11,
   "metadata": {},
   "outputs": [
    {
     "name": "stdout",
     "output_type": "stream",
     "text": [
      "[(161, 205, 105), (121, 2, 0), (246, 223, 213)]\n"
     ]
    }
   ],
   "source": [
    "\n",
    "def list_of_rgb_colors(num_colors):\n",
    "    colors = []\n",
    "    for _ in range(num_colors):\n",
    "        red = random.randint(0, 255)\n",
    "        green = random.randint(0, 255)\n",
    "        blue = random.randint(0, 255)\n",
    "        colors.append((red, green, blue))\n",
    "    return colors\n",
    "\n",
    "num_colors = 3\n",
    "result = list_of_rgb_colors(num_colors)\n",
    "print(result)\n"
   ]
  },
  {
   "cell_type": "code",
   "execution_count": 12,
   "metadata": {},
   "outputs": [
    {
     "name": "stdout",
     "output_type": "stream",
     "text": [
      "['#6ccf46', '#ddffdd', '#c25def']\n",
      "['#048045']\n",
      "['rgb(152, 18, 246)', 'rgb(1, 169, 143)', 'rgb(94, 155, 242)']\n",
      "['rgb(103, 21, 70)']\n"
     ]
    }
   ],
   "source": [
    "def generate_colors(color_format, num_colors):\n",
    "    colors = []\n",
    "\n",
    "    if color_format == 'hexa':\n",
    "        colors = [\"#{:06x}\".format(random.randint(0, 0xFFFFFF)) for _ in range(num_colors)]\n",
    "    elif color_format == 'rgb':\n",
    "        colors = [\"rgb({}, {}, {})\".format(random.randint(0, 255), random.randint(0, 255), random.randint(0, 255)) for _ in range(num_colors)]\n",
    "    \n",
    "    return colors\n",
    "\n",
    "hexa_colors_result = generate_colors('hexa', 3)\n",
    "print(hexa_colors_result)\n",
    "\n",
    "hexa_colors_result_single = generate_colors('hexa', 1)\n",
    "print(hexa_colors_result_single)\n",
    "\n",
    "rgb_colors_result = generate_colors('rgb', 3)\n",
    "print(rgb_colors_result)\n",
    "\n",
    "rgb_colors_result_single = generate_colors('rgb', 1)\n",
    "print(rgb_colors_result_single)\n"
   ]
  },
  {
   "cell_type": "markdown",
   "metadata": {},
   "source": [
    "# EXERCISES: LEVEL 3"
   ]
  },
  {
   "cell_type": "code",
   "execution_count": 14,
   "metadata": {},
   "outputs": [
    {
     "name": "stdout",
     "output_type": "stream",
     "text": [
      "Original List: [1, 2, 3, 4, 5]\n",
      "Shuffled List: [2, 5, 1, 4, 3]\n"
     ]
    }
   ],
   "source": [
    "def shuffle_list(input_list):\n",
    "    shuffled_list = list(input_list)\n",
    "    random.shuffle(shuffled_list)\n",
    "    return shuffled_list\n",
    "\n",
    "\n",
    "original_list = [1, 2, 3, 4, 5]\n",
    "shuffled_result = shuffle_list(original_list)\n",
    "print(\"Original List:\", original_list)\n",
    "print(\"Shuffled List:\", shuffled_result)\n"
   ]
  },
  {
   "cell_type": "code",
   "execution_count": 15,
   "metadata": {},
   "outputs": [
    {
     "name": "stdout",
     "output_type": "stream",
     "text": [
      "[1, 8, 3, 5, 0, 7, 2]\n"
     ]
    }
   ],
   "source": [
    "def seven_unique_random_numbers():\n",
    "    return random.sample(range(10), 7)\n",
    "\n",
    "result = seven_unique_random_numbers()\n",
    "print(result)\n"
   ]
  }
 ],
 "metadata": {
  "kernelspec": {
   "display_name": "datascience",
   "language": "python",
   "name": "python3"
  },
  "language_info": {
   "codemirror_mode": {
    "name": "ipython",
    "version": 3
   },
   "file_extension": ".py",
   "mimetype": "text/x-python",
   "name": "python",
   "nbconvert_exporter": "python",
   "pygments_lexer": "ipython3",
   "version": "3.8.18"
  }
 },
 "nbformat": 4,
 "nbformat_minor": 2
}
